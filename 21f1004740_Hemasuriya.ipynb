{
  "nbformat": 4,
  "nbformat_minor": 0,
  "metadata": {
    "colab": {
      "provenance": []
    },
    "kernelspec": {
      "name": "python3",
      "display_name": "Python 3"
    },
    "language_info": {
      "name": "python"
    }
  },
  "cells": [
    {
      "cell_type": "code",
      "execution_count": 1,
      "metadata": {
        "id": "LbLpI79mtQzV"
      },
      "outputs": [],
      "source": [
        "import pandas as pd\n",
        "import numpy as np\n",
        "\n",
        "from sklearn.impute import SimpleImputer"
      ]
    },
    {
      "cell_type": "markdown",
      "source": [
        "Amazon Sale Report cleaning"
      ],
      "metadata": {
        "id": "mXcitout9i9g"
      }
    },
    {
      "cell_type": "code",
      "source": [
        "ds = pd.read_csv(\"/content/Amazon Sale Report.csv\")\n",
        "ds.info()"
      ],
      "metadata": {
        "colab": {
          "base_uri": "https://localhost:8080/"
        },
        "id": "-w6OkbBstiV4",
        "outputId": "bcb5864f-5304-4181-9a3f-1ad4b43e23f3"
      },
      "execution_count": null,
      "outputs": [
        {
          "output_type": "stream",
          "name": "stdout",
          "text": [
            "<class 'pandas.core.frame.DataFrame'>\n",
            "RangeIndex: 128975 entries, 0 to 128974\n",
            "Data columns (total 23 columns):\n",
            " #   Column                  Non-Null Count   Dtype  \n",
            "---  ------                  --------------   -----  \n",
            " 0   index                   128975 non-null  int64  \n",
            " 1   Order_ID                128975 non-null  object \n",
            " 2   Order_Date              128975 non-null  object \n",
            " 3   Order_Status            128975 non-null  object \n",
            " 4   Fulfillment_Type        128975 non-null  object \n",
            " 5   Sales_Channel           128975 non-null  object \n",
            " 6   Shipping_Service_Level  128975 non-null  object \n",
            " 7   Product_Style           128975 non-null  object \n",
            " 8   Product_SKU             128975 non-null  object \n",
            " 9   Product_Category        128975 non-null  object \n",
            " 10  Product_Size            128975 non-null  object \n",
            " 11  Amazon_Standard_ID      128975 non-null  object \n",
            " 12  Courier_Status          122103 non-null  object \n",
            " 13  Quantity                128975 non-null  int64  \n",
            " 14  Currency                121180 non-null  object \n",
            " 15  Sale_Amount             121180 non-null  float64\n",
            " 16  Shipping_City           128942 non-null  object \n",
            " 17  Shipping_State          128942 non-null  object \n",
            " 18  Shipping_Postal_Code    128942 non-null  float64\n",
            " 19  Shipping_Country        128942 non-null  object \n",
            " 20  Promotion_IDs           79822 non-null   object \n",
            " 21  Business_to_Business    128975 non-null  bool   \n",
            " 22  Fulfilled_By            39277 non-null   object \n",
            "dtypes: bool(1), float64(2), int64(2), object(18)\n",
            "memory usage: 21.8+ MB\n"
          ]
        }
      ]
    },
    {
      "cell_type": "code",
      "source": [
        "ds['Shipping_State'] = ds['Shipping_State'].str.upper()\n",
        "\n",
        "state_mapping = {\n",
        "    'RJ': 'RAJASTHAN',\n",
        "    'NL': 'NAGALAND',\n",
        "    'AR': 'ARUNACHAL PRADESH',\n",
        "    'PB': 'PUNJAB',\n",
        "    'ORISSA':'ODISHA',\n",
        "    'PUNJAB/MOHALI/ZIRAKPUR': 'PUNJAB'\n",
        "}\n",
        "ds['Shipping_State'] = ds['Shipping_State'].replace(state_mapping)\n",
        "\n",
        "states = ds['Shipping_State'].unique()\n",
        "print(\"States: \", states)"
      ],
      "metadata": {
        "colab": {
          "base_uri": "https://localhost:8080/"
        },
        "id": "fg3js2fEuI0y",
        "outputId": "aaa52f22-a158-4f39-dd45-1de87c6b966e"
      },
      "execution_count": null,
      "outputs": [
        {
          "output_type": "stream",
          "name": "stdout",
          "text": [
            "States:  ['MAHARASHTRA' 'KARNATAKA' 'PUDUCHERRY' 'TAMIL NADU' 'UTTAR PRADESH'\n",
            " 'CHANDIGARH' 'TELANGANA' 'ANDHRA PRADESH' 'RAJASTHAN' 'DELHI' 'HARYANA'\n",
            " 'ASSAM' 'JHARKHAND' 'CHHATTISGARH' 'ODISHA' 'KERALA' 'MADHYA PRADESH'\n",
            " 'WEST BENGAL' 'NAGALAND' 'GUJARAT' 'UTTARAKHAND' 'BIHAR'\n",
            " 'JAMMU & KASHMIR' 'PUNJAB' 'HIMACHAL PRADESH' 'ARUNACHAL PRADESH'\n",
            " 'MANIPUR' 'GOA' 'MEGHALAYA' 'TRIPURA' 'LADAKH' 'DADRA AND NAGAR' 'SIKKIM'\n",
            " nan 'ANDAMAN & NICOBAR ' 'RAJSHTHAN' 'MIZORAM' 'NEW DELHI' 'LAKSHADWEEP'\n",
            " 'APO' 'PONDICHERRY' 'RAJSTHAN']\n"
          ]
        }
      ]
    },
    {
      "cell_type": "code",
      "source": [
        "ds = ds.drop(['Fulfilled_By', 'Promotion_IDs'], axis=1)\n",
        "ds.loc[(ds['Courier_Status'].isna()) & (ds['Quantity'] == 0), 'Courier_Status'] = 'Cancelled'\n",
        "ds['Currency'] = ds['Currency'].fillna('INR')"
      ],
      "metadata": {
        "id": "yUcreW0auS2s"
      },
      "execution_count": null,
      "outputs": []
    },
    {
      "cell_type": "code",
      "source": [
        "ds['Sale_Amount'] = ds.groupby('Product_SKU')['Sale_Amount'].transform(\n",
        "    lambda x: x.fillna(method='bfill').fillna(method='ffill')\n",
        ")\n",
        "\n",
        "imputer = SimpleImputer(strategy='median')\n",
        "ds['Sale_Amount'] = imputer.fit_transform(ds[['Sale_Amount']])\n",
        "ds.info()"
      ],
      "metadata": {
        "colab": {
          "base_uri": "https://localhost:8080/"
        },
        "id": "o540-8Ce7UPw",
        "outputId": "f6abbec4-38f0-47dc-ff96-d9d008500ff3"
      },
      "execution_count": null,
      "outputs": [
        {
          "output_type": "stream",
          "name": "stderr",
          "text": [
            "<ipython-input-28-d48ff32f1275>:4: FutureWarning: Series.fillna with 'method' is deprecated and will raise in a future version. Use obj.ffill() or obj.bfill() instead.\n",
            "  lambda x: x.fillna(method='bfill').fillna(method='ffill')\n"
          ]
        },
        {
          "output_type": "stream",
          "name": "stdout",
          "text": [
            "<class 'pandas.core.frame.DataFrame'>\n",
            "RangeIndex: 128975 entries, 0 to 128974\n",
            "Data columns (total 21 columns):\n",
            " #   Column                  Non-Null Count   Dtype  \n",
            "---  ------                  --------------   -----  \n",
            " 0   index                   128975 non-null  int64  \n",
            " 1   Order_ID                128975 non-null  object \n",
            " 2   Order_Date              128975 non-null  object \n",
            " 3   Order_Status            128975 non-null  object \n",
            " 4   Fulfillment_Type        128975 non-null  object \n",
            " 5   Sales_Channel           128975 non-null  object \n",
            " 6   Shipping_Service_Level  128975 non-null  object \n",
            " 7   Product_Style           128975 non-null  object \n",
            " 8   Product_SKU             128975 non-null  object \n",
            " 9   Product_Category        128975 non-null  object \n",
            " 10  Product_Size            128975 non-null  object \n",
            " 11  Amazon_Standard_ID      128975 non-null  object \n",
            " 12  Courier_Status          128975 non-null  object \n",
            " 13  Quantity                128975 non-null  int64  \n",
            " 14  Currency                128975 non-null  object \n",
            " 15  Sale_Amount             128975 non-null  float64\n",
            " 16  Shipping_City           128942 non-null  object \n",
            " 17  Shipping_State          128942 non-null  object \n",
            " 18  Shipping_Postal_Code    128942 non-null  float64\n",
            " 19  Shipping_Country        128942 non-null  object \n",
            " 20  Business_to_Business    128975 non-null  bool   \n",
            "dtypes: bool(1), float64(2), int64(2), object(16)\n",
            "memory usage: 19.8+ MB\n"
          ]
        }
      ]
    },
    {
      "cell_type": "markdown",
      "source": [
        "International Sale Report cleaning"
      ],
      "metadata": {
        "id": "aU-6K78E9xuh"
      }
    },
    {
      "cell_type": "code",
      "source": [
        "ds2 = pd.read_csv(\"/content/International sale Report.csv\")\n",
        "print(ds2.shape)\n",
        "ds2.info()"
      ],
      "metadata": {
        "colab": {
          "base_uri": "https://localhost:8080/"
        },
        "id": "bsoDwuqD95xD",
        "outputId": "6dc8d415-8f42-4966-a556-98453ba93a1d"
      },
      "execution_count": 12,
      "outputs": [
        {
          "output_type": "stream",
          "name": "stdout",
          "text": [
            "(37432, 10)\n",
            "<class 'pandas.core.frame.DataFrame'>\n",
            "RangeIndex: 37432 entries, 0 to 37431\n",
            "Data columns (total 10 columns):\n",
            " #   Column              Non-Null Count  Dtype \n",
            "---  ------              --------------  ----- \n",
            " 0   index               37432 non-null  int64 \n",
            " 1   Sale_Date           37431 non-null  object\n",
            " 2   Sale_Month          37407 non-null  object\n",
            " 3   Customer_Name       36392 non-null  object\n",
            " 4   Product_Style       36392 non-null  object\n",
            " 5   Product_SKU         34958 non-null  object\n",
            " 6   Product_Size        36392 non-null  object\n",
            " 7   Quantity_Purchased  36392 non-null  object\n",
            " 8   Price_per_Unit      36392 non-null  object\n",
            " 9   Gross_Amount        36392 non-null  object\n",
            "dtypes: int64(1), object(9)\n",
            "memory usage: 2.9+ MB\n"
          ]
        }
      ]
    },
    {
      "cell_type": "code",
      "source": [
        "most_frequent_sku = ds2.groupby('Product_Style')['Product_SKU'].agg(lambda x: x.mode()[0] if not x.mode().empty else np.nan)\n",
        "ds2.loc[ds2['Product_SKU'].isna(), 'Product_SKU'] = ds2.loc[ds2['Product_SKU'].isna(), 'Product_Style'].map(most_frequent_sku)\n",
        "ds2.info()"
      ],
      "metadata": {
        "colab": {
          "base_uri": "https://localhost:8080/"
        },
        "id": "YAf4YcQ0AYEo",
        "outputId": "572e1f11-b896-4442-967a-ab422771ed0e"
      },
      "execution_count": 13,
      "outputs": [
        {
          "output_type": "stream",
          "name": "stdout",
          "text": [
            "<class 'pandas.core.frame.DataFrame'>\n",
            "RangeIndex: 37432 entries, 0 to 37431\n",
            "Data columns (total 10 columns):\n",
            " #   Column              Non-Null Count  Dtype \n",
            "---  ------              --------------  ----- \n",
            " 0   index               37432 non-null  int64 \n",
            " 1   Sale_Date           37431 non-null  object\n",
            " 2   Sale_Month          37407 non-null  object\n",
            " 3   Customer_Name       36392 non-null  object\n",
            " 4   Product_Style       36392 non-null  object\n",
            " 5   Product_SKU         36189 non-null  object\n",
            " 6   Product_Size        36392 non-null  object\n",
            " 7   Quantity_Purchased  36392 non-null  object\n",
            " 8   Price_per_Unit      36392 non-null  object\n",
            " 9   Gross_Amount        36392 non-null  object\n",
            "dtypes: int64(1), object(9)\n",
            "memory usage: 2.9+ MB\n"
          ]
        }
      ]
    },
    {
      "cell_type": "code",
      "source": [
        "from sklearn.impute import KNNImputer\n",
        "from sklearn.preprocessing import LabelEncoder\n",
        "\n",
        "encoder_style = LabelEncoder()\n",
        "ds2['Product_Style_Encoded'] = encoder_style.fit_transform(ds2['Product_Style'])\n",
        "\n",
        "encoder_sku = LabelEncoder()\n",
        "encoder_sku.fit(ds2['Product_SKU'].dropna())\n",
        "\n",
        "ds2['Product_SKU_Encoded'] = ds2['Product_SKU'].apply(\n",
        "    lambda x: encoder_sku.transform([x])[0] if pd.notna(x) else np.nan\n",
        ")\n",
        "\n",
        "imputer = KNNImputer(n_neighbors=2, weights=\"uniform\")\n",
        "imputed_values = imputer.fit_transform(ds2[['Product_SKU_Encoded', 'Product_Style_Encoded']])\n",
        "ds2['Product_SKU_Encoded'] = imputed_values[:, 0]\n",
        "\n",
        "ds2['Product_SKU'] = ds2['Product_SKU_Encoded'].apply(\n",
        "    lambda x: encoder_sku.inverse_transform([int(round(x))])[0] if not np.isnan(x) else np.nan\n",
        ")\n",
        "\n",
        "ds2 = ds2.drop(['Product_Style_Encoded', 'Product_SKU_Encoded'], axis=1)\n"
      ],
      "metadata": {
        "id": "zHVZNpJvzgAa"
      },
      "execution_count": 20,
      "outputs": []
    },
    {
      "cell_type": "code",
      "source": [
        "ds2['Temporary_Sale_Date'] = pd.to_datetime(ds2['Sale_Date'], format='%d-%m-%Y', errors='coerce')\n",
        "\n",
        "ds2['Extracted_Sale_Month'] = ds2['Temporary_Sale_Date'].dt.strftime('%y-%b')\n",
        "\n",
        "ds2.loc[ds2['Sale_Month'].isna(), 'Sale_Month'] = ds2.loc[ds2['Sale_Month'].isna(), 'Extracted_Sale_Month']\n",
        "\n",
        "ds2 = ds2.drop(columns=['Temporary_Sale_Date', 'Extracted_Sale_Month'])"
      ],
      "metadata": {
        "id": "bRfzxQ767VJi"
      },
      "execution_count": 27,
      "outputs": []
    },
    {
      "cell_type": "code",
      "source": [
        "ds2.info()"
      ],
      "metadata": {
        "colab": {
          "base_uri": "https://localhost:8080/"
        },
        "id": "n_KMcLnp56mE",
        "outputId": "09c89e74-a952-41ba-b011-dce7721d9063"
      },
      "execution_count": 28,
      "outputs": [
        {
          "output_type": "stream",
          "name": "stdout",
          "text": [
            "<class 'pandas.core.frame.DataFrame'>\n",
            "RangeIndex: 37432 entries, 0 to 37431\n",
            "Data columns (total 10 columns):\n",
            " #   Column              Non-Null Count  Dtype \n",
            "---  ------              --------------  ----- \n",
            " 0   index               37432 non-null  int64 \n",
            " 1   Sale_Date           37431 non-null  object\n",
            " 2   Sale_Month          37407 non-null  object\n",
            " 3   Customer_Name       36392 non-null  object\n",
            " 4   Product_Style       36392 non-null  object\n",
            " 5   Product_SKU         37432 non-null  object\n",
            " 6   Product_Size        36392 non-null  object\n",
            " 7   Quantity_Purchased  36392 non-null  object\n",
            " 8   Price_per_Unit      36392 non-null  object\n",
            " 9   Gross_Amount        36392 non-null  object\n",
            "dtypes: int64(1), object(9)\n",
            "memory usage: 2.9+ MB\n"
          ]
        }
      ]
    },
    {
      "cell_type": "markdown",
      "source": [
        "May-2022"
      ],
      "metadata": {
        "id": "HWeJ1zNuAi8u"
      }
    },
    {
      "cell_type": "code",
      "source": [
        "ds3 = pd.read_csv(\"/content/May-2022.csv\")\n",
        "ds3 = ds3.replace('Nill', np.nan)\n",
        "ds3.info()"
      ],
      "metadata": {
        "colab": {
          "base_uri": "https://localhost:8080/"
        },
        "id": "szJmN7ZDG5nl",
        "outputId": "521a5d2b-83ba-4fe8-83f9-aaa02abce235"
      },
      "execution_count": 30,
      "outputs": [
        {
          "output_type": "stream",
          "name": "stdout",
          "text": [
            "<class 'pandas.core.frame.DataFrame'>\n",
            "RangeIndex: 1330 entries, 0 to 1329\n",
            "Data columns (total 17 columns):\n",
            " #   Column            Non-Null Count  Dtype \n",
            "---  ------            --------------  ----- \n",
            " 0   index             1330 non-null   int64 \n",
            " 1   Product_SKU       1330 non-null   object\n",
            " 2   Product_Style_ID  1330 non-null   object\n",
            " 3   Product_Catalog   1257 non-null   object\n",
            " 4   Product_Category  1257 non-null   object\n",
            " 5   Product_Weight    1257 non-null   object\n",
            " 6   Transfer_Price    1330 non-null   object\n",
            " 7   Old_MRP           1293 non-null   object\n",
            " 8   Final_Old_MRP     1293 non-null   object\n",
            " 9   Ajio_MRP          1293 non-null   object\n",
            " 10  Amazon_MRP        1293 non-null   object\n",
            " 11  Amazon_FBA_MRP    1293 non-null   object\n",
            " 12  Flipkart_MRP      1293 non-null   object\n",
            " 13  Limeroad_MRP      1293 non-null   object\n",
            " 14  Myntra_MRP        1299 non-null   object\n",
            " 15  Paytm_MRP         1293 non-null   object\n",
            " 16  Snapdeal_MRP      1293 non-null   object\n",
            "dtypes: int64(1), object(16)\n",
            "memory usage: 176.8+ KB\n"
          ]
        }
      ]
    },
    {
      "cell_type": "code",
      "source": [],
      "metadata": {
        "id": "dTniJQ-VHTLV"
      },
      "execution_count": null,
      "outputs": []
    },
    {
      "cell_type": "markdown",
      "source": [
        "Sale Report"
      ],
      "metadata": {
        "id": "7oNKugd2Jwzw"
      }
    },
    {
      "cell_type": "code",
      "source": [
        "ds4 = pd.read_csv(\"/content/Sale Report.csv\")\n",
        "ds4.info()"
      ],
      "metadata": {
        "colab": {
          "base_uri": "https://localhost:8080/"
        },
        "id": "OOzwaeR7J1O1",
        "outputId": "218aafd5-8862-4648-fa21-02d02698bb73"
      },
      "execution_count": 31,
      "outputs": [
        {
          "output_type": "stream",
          "name": "stdout",
          "text": [
            "<class 'pandas.core.frame.DataFrame'>\n",
            "RangeIndex: 9271 entries, 0 to 9270\n",
            "Data columns (total 7 columns):\n",
            " #   Column            Non-Null Count  Dtype  \n",
            "---  ------            --------------  -----  \n",
            " 0   index             9271 non-null   int64  \n",
            " 1   Product_SKU       9188 non-null   object \n",
            " 2   Design_Number     9235 non-null   object \n",
            " 3   Stock_Level       9235 non-null   float64\n",
            " 4   Product_Category  9226 non-null   object \n",
            " 5   Product_Size      9235 non-null   object \n",
            " 6   Product_Color     9226 non-null   object \n",
            "dtypes: float64(1), int64(1), object(5)\n",
            "memory usage: 507.1+ KB\n"
          ]
        }
      ]
    }
  ]
}