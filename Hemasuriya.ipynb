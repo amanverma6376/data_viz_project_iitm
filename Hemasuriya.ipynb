{
  "nbformat": 4,
  "nbformat_minor": 0,
  "metadata": {
    "colab": {
      "provenance": []
    },
    "kernelspec": {
      "name": "python3",
      "display_name": "Python 3"
    },
    "language_info": {
      "name": "python"
    }
  },
  "cells": [
    {
      "cell_type": "code",
      "execution_count": null,
      "metadata": {
        "id": "LbLpI79mtQzV"
      },
      "outputs": [],
      "source": [
        "import pandas as pd\n",
        "import numpy as np\n",
        "\n",
        "from sklearn.impute import SimpleImputer"
      ]
    },
    {
      "cell_type": "markdown",
      "source": [
        "Amazon Sale Report cleaning"
      ],
      "metadata": {
        "id": "mXcitout9i9g"
      }
    },
    {
      "cell_type": "code",
      "source": [
        "ds = pd.read_csv(\"/content/Amazon Sale Report.csv\")\n",
        "ds.info()"
      ],
      "metadata": {
        "colab": {
          "base_uri": "https://localhost:8080/"
        },
        "id": "-w6OkbBstiV4",
        "outputId": "bcb5864f-5304-4181-9a3f-1ad4b43e23f3"
      },
      "execution_count": null,
      "outputs": [
        {
          "output_type": "stream",
          "name": "stdout",
          "text": [
            "<class 'pandas.core.frame.DataFrame'>\n",
            "RangeIndex: 128975 entries, 0 to 128974\n",
            "Data columns (total 23 columns):\n",
            " #   Column                  Non-Null Count   Dtype  \n",
            "---  ------                  --------------   -----  \n",
            " 0   index                   128975 non-null  int64  \n",
            " 1   Order_ID                128975 non-null  object \n",
            " 2   Order_Date              128975 non-null  object \n",
            " 3   Order_Status            128975 non-null  object \n",
            " 4   Fulfillment_Type        128975 non-null  object \n",
            " 5   Sales_Channel           128975 non-null  object \n",
            " 6   Shipping_Service_Level  128975 non-null  object \n",
            " 7   Product_Style           128975 non-null  object \n",
            " 8   Product_SKU             128975 non-null  object \n",
            " 9   Product_Category        128975 non-null  object \n",
            " 10  Product_Size            128975 non-null  object \n",
            " 11  Amazon_Standard_ID      128975 non-null  object \n",
            " 12  Courier_Status          122103 non-null  object \n",
            " 13  Quantity                128975 non-null  int64  \n",
            " 14  Currency                121180 non-null  object \n",
            " 15  Sale_Amount             121180 non-null  float64\n",
            " 16  Shipping_City           128942 non-null  object \n",
            " 17  Shipping_State          128942 non-null  object \n",
            " 18  Shipping_Postal_Code    128942 non-null  float64\n",
            " 19  Shipping_Country        128942 non-null  object \n",
            " 20  Promotion_IDs           79822 non-null   object \n",
            " 21  Business_to_Business    128975 non-null  bool   \n",
            " 22  Fulfilled_By            39277 non-null   object \n",
            "dtypes: bool(1), float64(2), int64(2), object(18)\n",
            "memory usage: 21.8+ MB\n"
          ]
        }
      ]
    },
    {
      "cell_type": "code",
      "source": [
        "ds['Shipping_State'] = ds['Shipping_State'].str.upper()\n",
        "\n",
        "state_mapping = {\n",
        "    'RJ': 'RAJASTHAN',\n",
        "    'NL': 'NAGALAND',\n",
        "    'AR': 'ARUNACHAL PRADESH',\n",
        "    'PB': 'PUNJAB',\n",
        "    'ORISSA':'ODISHA',\n",
        "    'PUNJAB/MOHALI/ZIRAKPUR': 'PUNJAB'\n",
        "}\n",
        "ds['Shipping_State'] = ds['Shipping_State'].replace(state_mapping)\n",
        "\n",
        "states = ds['Shipping_State'].unique()\n",
        "print(\"States: \", states)"
      ],
      "metadata": {
        "colab": {
          "base_uri": "https://localhost:8080/"
        },
        "id": "fg3js2fEuI0y",
        "outputId": "aaa52f22-a158-4f39-dd45-1de87c6b966e"
      },
      "execution_count": null,
      "outputs": [
        {
          "output_type": "stream",
          "name": "stdout",
          "text": [
            "States:  ['MAHARASHTRA' 'KARNATAKA' 'PUDUCHERRY' 'TAMIL NADU' 'UTTAR PRADESH'\n",
            " 'CHANDIGARH' 'TELANGANA' 'ANDHRA PRADESH' 'RAJASTHAN' 'DELHI' 'HARYANA'\n",
            " 'ASSAM' 'JHARKHAND' 'CHHATTISGARH' 'ODISHA' 'KERALA' 'MADHYA PRADESH'\n",
            " 'WEST BENGAL' 'NAGALAND' 'GUJARAT' 'UTTARAKHAND' 'BIHAR'\n",
            " 'JAMMU & KASHMIR' 'PUNJAB' 'HIMACHAL PRADESH' 'ARUNACHAL PRADESH'\n",
            " 'MANIPUR' 'GOA' 'MEGHALAYA' 'TRIPURA' 'LADAKH' 'DADRA AND NAGAR' 'SIKKIM'\n",
            " nan 'ANDAMAN & NICOBAR ' 'RAJSHTHAN' 'MIZORAM' 'NEW DELHI' 'LAKSHADWEEP'\n",
            " 'APO' 'PONDICHERRY' 'RAJSTHAN']\n"
          ]
        }
      ]
    },
    {
      "cell_type": "code",
      "source": [
        "ds = ds.drop(['Fulfilled_By', 'Promotion_IDs'], axis=1)\n",
        "ds.loc[(ds['Courier_Status'].isna()) & (ds['Quantity'] == 0), 'Courier_Status'] = 'Cancelled'\n",
        "ds['Currency'] = ds['Currency'].fillna('INR')"
      ],
      "metadata": {
        "id": "yUcreW0auS2s"
      },
      "execution_count": null,
      "outputs": []
    },
    {
      "cell_type": "code",
      "source": [
        "ds['Sale_Amount'] = ds.groupby('Product_SKU')['Sale_Amount'].transform(\n",
        "    lambda x: x.fillna(method='bfill').fillna(method='ffill')\n",
        ")\n",
        "\n",
        "imputer = SimpleImputer(strategy='median')\n",
        "ds['Sale_Amount'] = imputer.fit_transform(ds[['Sale_Amount']])\n",
        "ds.info()"
      ],
      "metadata": {
        "colab": {
          "base_uri": "https://localhost:8080/"
        },
        "id": "o540-8Ce7UPw",
        "outputId": "f6abbec4-38f0-47dc-ff96-d9d008500ff3"
      },
      "execution_count": null,
      "outputs": [
        {
          "output_type": "stream",
          "name": "stderr",
          "text": [
            "<ipython-input-28-d48ff32f1275>:4: FutureWarning: Series.fillna with 'method' is deprecated and will raise in a future version. Use obj.ffill() or obj.bfill() instead.\n",
            "  lambda x: x.fillna(method='bfill').fillna(method='ffill')\n"
          ]
        },
        {
          "output_type": "stream",
          "name": "stdout",
          "text": [
            "<class 'pandas.core.frame.DataFrame'>\n",
            "RangeIndex: 128975 entries, 0 to 128974\n",
            "Data columns (total 21 columns):\n",
            " #   Column                  Non-Null Count   Dtype  \n",
            "---  ------                  --------------   -----  \n",
            " 0   index                   128975 non-null  int64  \n",
            " 1   Order_ID                128975 non-null  object \n",
            " 2   Order_Date              128975 non-null  object \n",
            " 3   Order_Status            128975 non-null  object \n",
            " 4   Fulfillment_Type        128975 non-null  object \n",
            " 5   Sales_Channel           128975 non-null  object \n",
            " 6   Shipping_Service_Level  128975 non-null  object \n",
            " 7   Product_Style           128975 non-null  object \n",
            " 8   Product_SKU             128975 non-null  object \n",
            " 9   Product_Category        128975 non-null  object \n",
            " 10  Product_Size            128975 non-null  object \n",
            " 11  Amazon_Standard_ID      128975 non-null  object \n",
            " 12  Courier_Status          128975 non-null  object \n",
            " 13  Quantity                128975 non-null  int64  \n",
            " 14  Currency                128975 non-null  object \n",
            " 15  Sale_Amount             128975 non-null  float64\n",
            " 16  Shipping_City           128942 non-null  object \n",
            " 17  Shipping_State          128942 non-null  object \n",
            " 18  Shipping_Postal_Code    128942 non-null  float64\n",
            " 19  Shipping_Country        128942 non-null  object \n",
            " 20  Business_to_Business    128975 non-null  bool   \n",
            "dtypes: bool(1), float64(2), int64(2), object(16)\n",
            "memory usage: 19.8+ MB\n"
          ]
        }
      ]
    },
    {
      "cell_type": "markdown",
      "source": [
        "International Sale Report cleaning"
      ],
      "metadata": {
        "id": "aU-6K78E9xuh"
      }
    },
    {
      "cell_type": "code",
      "source": [
        "ds2 = pd.read_csv(\"/content/International sale Report.csv\")\n",
        "print(ds2.shape)\n",
        "ds2.info()"
      ],
      "metadata": {
        "colab": {
          "base_uri": "https://localhost:8080/"
        },
        "id": "bsoDwuqD95xD",
        "outputId": "8371b574-924d-45d6-96e3-f91c0a61e22e"
      },
      "execution_count": null,
      "outputs": [
        {
          "output_type": "stream",
          "name": "stdout",
          "text": [
            "(37432, 10)\n",
            "<class 'pandas.core.frame.DataFrame'>\n",
            "RangeIndex: 37432 entries, 0 to 37431\n",
            "Data columns (total 10 columns):\n",
            " #   Column              Non-Null Count  Dtype \n",
            "---  ------              --------------  ----- \n",
            " 0   index               37432 non-null  int64 \n",
            " 1   Sale_Date           37431 non-null  object\n",
            " 2   Sale_Month          37407 non-null  object\n",
            " 3   Customer_Name       36392 non-null  object\n",
            " 4   Product_Style       36392 non-null  object\n",
            " 5   Product_SKU         34958 non-null  object\n",
            " 6   Product_Size        36392 non-null  object\n",
            " 7   Quantity_Purchased  36392 non-null  object\n",
            " 8   Price_per_Unit      36392 non-null  object\n",
            " 9   Gross_Amount        36392 non-null  object\n",
            "dtypes: int64(1), object(9)\n",
            "memory usage: 2.9+ MB\n"
          ]
        }
      ]
    },
    {
      "cell_type": "code",
      "source": [
        "most_frequent_sku = ds2.groupby('Product_Style')['Product_SKU'].agg(lambda x: x.mode()[0] if not x.mode().empty else np.nan)\n",
        "ds2.loc[ds2['Product_SKU'].isna(), 'Product_SKU'] = ds2.loc[ds2['Product_SKU'].isna(), 'Product_Style'].map(most_frequent_sku)\n",
        "ds2.info()"
      ],
      "metadata": {
        "colab": {
          "base_uri": "https://localhost:8080/"
        },
        "id": "YAf4YcQ0AYEo",
        "outputId": "1a2e2503-8663-43b8-df37-f617b52f8b3b"
      },
      "execution_count": null,
      "outputs": [
        {
          "output_type": "stream",
          "name": "stdout",
          "text": [
            "<class 'pandas.core.frame.DataFrame'>\n",
            "RangeIndex: 37432 entries, 0 to 37431\n",
            "Data columns (total 10 columns):\n",
            " #   Column              Non-Null Count  Dtype \n",
            "---  ------              --------------  ----- \n",
            " 0   index               37432 non-null  int64 \n",
            " 1   Sale_Date           37431 non-null  object\n",
            " 2   Sale_Month          37407 non-null  object\n",
            " 3   Customer_Name       36392 non-null  object\n",
            " 4   Product_Style       36392 non-null  object\n",
            " 5   Product_SKU         36189 non-null  object\n",
            " 6   Product_Size        36392 non-null  object\n",
            " 7   Quantity_Purchased  36392 non-null  object\n",
            " 8   Price_per_Unit      36392 non-null  object\n",
            " 9   Gross_Amount        36392 non-null  object\n",
            "dtypes: int64(1), object(9)\n",
            "memory usage: 2.9+ MB\n"
          ]
        }
      ]
    }
  ]
}