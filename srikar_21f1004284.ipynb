{
 "cells": [
  {
   "cell_type": "markdown",
   "metadata": {},
   "source": [
    "Still problems in all the cleaning processess (!fix needed!)"
   ]
  },
  {
   "cell_type": "markdown",
   "metadata": {
    "id": "wjOYhn7ctqjt"
   },
   "source": [
    "**AMAZON SALES DATA**"
   ]
  },
  {
   "cell_type": "code",
   "execution_count": 2,
   "metadata": {},
   "outputs": [
    {
     "name": "stdout",
     "output_type": "stream",
     "text": [
      "Collecting pandas\n",
      "  Downloading pandas-2.2.3-cp312-cp312-win_amd64.whl.metadata (19 kB)\n",
      "Collecting numpy>=1.26.0 (from pandas)\n",
      "  Downloading numpy-2.2.4-cp312-cp312-win_amd64.whl.metadata (60 kB)\n",
      "Requirement already satisfied: python-dateutil>=2.8.2 in c:\\users\\hp\\onedrive\\desktop\\dataviz\\data_viz_project_iitm\\.venv\\lib\\site-packages (from pandas) (2.9.0.post0)\n",
      "Collecting pytz>=2020.1 (from pandas)\n",
      "  Downloading pytz-2025.1-py2.py3-none-any.whl.metadata (22 kB)\n",
      "Collecting tzdata>=2022.7 (from pandas)\n",
      "  Downloading tzdata-2025.1-py2.py3-none-any.whl.metadata (1.4 kB)\n",
      "Requirement already satisfied: six>=1.5 in c:\\users\\hp\\onedrive\\desktop\\dataviz\\data_viz_project_iitm\\.venv\\lib\\site-packages (from python-dateutil>=2.8.2->pandas) (1.17.0)\n",
      "Downloading pandas-2.2.3-cp312-cp312-win_amd64.whl (11.5 MB)\n",
      "   ---------------------------------------- 0.0/11.5 MB ? eta -:--:--\n",
      "   -- ------------------------------------- 0.8/11.5 MB 5.6 MB/s eta 0:00:02\n",
      "   ------ --------------------------------- 1.8/11.5 MB 4.0 MB/s eta 0:00:03\n",
      "   -------- ------------------------------- 2.4/11.5 MB 3.7 MB/s eta 0:00:03\n",
      "   ---------- ----------------------------- 3.1/11.5 MB 3.8 MB/s eta 0:00:03\n",
      "   ------------- -------------------------- 3.9/11.5 MB 3.7 MB/s eta 0:00:03\n",
      "   ---------------- ----------------------- 4.7/11.5 MB 3.7 MB/s eta 0:00:02\n",
      "   ------------------- -------------------- 5.5/11.5 MB 3.7 MB/s eta 0:00:02\n",
      "   --------------------- ------------------ 6.3/11.5 MB 3.6 MB/s eta 0:00:02\n",
      "   ----------------------- ---------------- 6.8/11.5 MB 3.6 MB/s eta 0:00:02\n",
      "   -------------------------- ------------- 7.6/11.5 MB 3.6 MB/s eta 0:00:02\n",
      "   ----------------------------- ---------- 8.4/11.5 MB 3.6 MB/s eta 0:00:01\n",
      "   ------------------------------- -------- 9.2/11.5 MB 3.6 MB/s eta 0:00:01\n",
      "   ---------------------------------- ----- 10.0/11.5 MB 3.6 MB/s eta 0:00:01\n",
      "   ------------------------------------- -- 10.7/11.5 MB 3.6 MB/s eta 0:00:01\n",
      "   ---------------------------------------  11.3/11.5 MB 3.6 MB/s eta 0:00:01\n",
      "   ---------------------------------------- 11.5/11.5 MB 3.5 MB/s eta 0:00:00\n",
      "Downloading numpy-2.2.4-cp312-cp312-win_amd64.whl (12.6 MB)\n",
      "   ---------------------------------------- 0.0/12.6 MB ? eta -:--:--\n",
      "   -- ------------------------------------- 0.8/12.6 MB 4.2 MB/s eta 0:00:03\n",
      "   ---- ----------------------------------- 1.6/12.6 MB 3.6 MB/s eta 0:00:04\n",
      "   ------- -------------------------------- 2.4/12.6 MB 3.6 MB/s eta 0:00:03\n",
      "   --------- ------------------------------ 3.1/12.6 MB 3.6 MB/s eta 0:00:03\n",
      "   ------------ --------------------------- 3.9/12.6 MB 3.6 MB/s eta 0:00:03\n",
      "   -------------- ------------------------- 4.7/12.6 MB 3.6 MB/s eta 0:00:03\n",
      "   ----------------- ---------------------- 5.5/12.6 MB 3.6 MB/s eta 0:00:03\n",
      "   ------------------- -------------------- 6.3/12.6 MB 3.6 MB/s eta 0:00:02\n",
      "   --------------------- ------------------ 6.8/12.6 MB 3.6 MB/s eta 0:00:02\n",
      "   ------------------------ --------------- 7.6/12.6 MB 3.6 MB/s eta 0:00:02\n",
      "   -------------------------- ------------- 8.4/12.6 MB 3.6 MB/s eta 0:00:02\n",
      "   ----------------------------- ---------- 9.2/12.6 MB 3.6 MB/s eta 0:00:01\n",
      "   ------------------------------- -------- 10.0/12.6 MB 3.5 MB/s eta 0:00:01\n",
      "   ---------------------------------- ----- 10.7/12.6 MB 3.5 MB/s eta 0:00:01\n",
      "   ----------------------------------- ---- 11.3/12.6 MB 3.6 MB/s eta 0:00:01\n",
      "   -------------------------------------- - 12.1/12.6 MB 3.6 MB/s eta 0:00:01\n",
      "   ---------------------------------------- 12.6/12.6 MB 3.5 MB/s eta 0:00:00\n",
      "Downloading pytz-2025.1-py2.py3-none-any.whl (507 kB)\n",
      "Downloading tzdata-2025.1-py2.py3-none-any.whl (346 kB)\n",
      "Installing collected packages: pytz, tzdata, numpy, pandas\n",
      "Successfully installed numpy-2.2.4 pandas-2.2.3 pytz-2025.1 tzdata-2025.1\n",
      "Note: you may need to restart the kernel to use updated packages.\n",
      "Requirement already satisfied: numpy in c:\\users\\hp\\onedrive\\desktop\\dataviz\\data_viz_project_iitm\\.venv\\lib\\site-packages (2.2.4)\n",
      "Note: you may need to restart the kernel to use updated packages.\n",
      "Collecting matplotlib\n",
      "  Downloading matplotlib-3.10.1-cp312-cp312-win_amd64.whl.metadata (11 kB)\n",
      "Collecting contourpy>=1.0.1 (from matplotlib)\n",
      "  Downloading contourpy-1.3.1-cp312-cp312-win_amd64.whl.metadata (5.4 kB)\n",
      "Collecting cycler>=0.10 (from matplotlib)\n",
      "  Using cached cycler-0.12.1-py3-none-any.whl.metadata (3.8 kB)\n",
      "Collecting fonttools>=4.22.0 (from matplotlib)\n",
      "  Downloading fonttools-4.56.0-cp312-cp312-win_amd64.whl.metadata (103 kB)\n",
      "Collecting kiwisolver>=1.3.1 (from matplotlib)\n",
      "  Downloading kiwisolver-1.4.8-cp312-cp312-win_amd64.whl.metadata (6.3 kB)\n",
      "Requirement already satisfied: numpy>=1.23 in c:\\users\\hp\\onedrive\\desktop\\dataviz\\data_viz_project_iitm\\.venv\\lib\\site-packages (from matplotlib) (2.2.4)\n",
      "Requirement already satisfied: packaging>=20.0 in c:\\users\\hp\\onedrive\\desktop\\dataviz\\data_viz_project_iitm\\.venv\\lib\\site-packages (from matplotlib) (24.2)\n",
      "Collecting pillow>=8 (from matplotlib)\n",
      "  Downloading pillow-11.1.0-cp312-cp312-win_amd64.whl.metadata (9.3 kB)\n",
      "Collecting pyparsing>=2.3.1 (from matplotlib)\n",
      "  Downloading pyparsing-3.2.1-py3-none-any.whl.metadata (5.0 kB)\n",
      "Requirement already satisfied: python-dateutil>=2.7 in c:\\users\\hp\\onedrive\\desktop\\dataviz\\data_viz_project_iitm\\.venv\\lib\\site-packages (from matplotlib) (2.9.0.post0)\n",
      "Requirement already satisfied: six>=1.5 in c:\\users\\hp\\onedrive\\desktop\\dataviz\\data_viz_project_iitm\\.venv\\lib\\site-packages (from python-dateutil>=2.7->matplotlib) (1.17.0)\n",
      "Downloading matplotlib-3.10.1-cp312-cp312-win_amd64.whl (8.1 MB)\n",
      "   ---------------------------------------- 0.0/8.1 MB ? eta -:--:--\n",
      "   ----- ---------------------------------- 1.0/8.1 MB 5.0 MB/s eta 0:00:02\n",
      "   --------- ------------------------------ 1.8/8.1 MB 4.2 MB/s eta 0:00:02\n",
      "   ----------- ---------------------------- 2.4/8.1 MB 3.9 MB/s eta 0:00:02\n",
      "   --------------- ------------------------ 3.1/8.1 MB 3.8 MB/s eta 0:00:02\n",
      "   ------------------- -------------------- 3.9/8.1 MB 3.7 MB/s eta 0:00:02\n",
      "   ----------------------- ---------------- 4.7/8.1 MB 3.7 MB/s eta 0:00:01\n",
      "   --------------------------- ------------ 5.5/8.1 MB 3.6 MB/s eta 0:00:01\n",
      "   ----------------------------- ---------- 6.0/8.1 MB 3.7 MB/s eta 0:00:01\n",
      "   --------------------------------- ------ 6.8/8.1 MB 3.6 MB/s eta 0:00:01\n",
      "   ------------------------------------- -- 7.6/8.1 MB 3.6 MB/s eta 0:00:01\n",
      "   ---------------------------------------- 8.1/8.1 MB 3.5 MB/s eta 0:00:00\n",
      "Downloading contourpy-1.3.1-cp312-cp312-win_amd64.whl (220 kB)\n",
      "Using cached cycler-0.12.1-py3-none-any.whl (8.3 kB)\n",
      "Downloading fonttools-4.56.0-cp312-cp312-win_amd64.whl (2.2 MB)\n",
      "   ---------------------------------------- 0.0/2.2 MB ? eta -:--:--\n",
      "   -------------- ------------------------- 0.8/2.2 MB 3.7 MB/s eta 0:00:01\n",
      "   ---------------------------- ----------- 1.6/2.2 MB 3.5 MB/s eta 0:00:01\n",
      "   ---------------------------------------- 2.2/2.2 MB 3.4 MB/s eta 0:00:00\n",
      "Downloading kiwisolver-1.4.8-cp312-cp312-win_amd64.whl (71 kB)\n",
      "Downloading pillow-11.1.0-cp312-cp312-win_amd64.whl (2.6 MB)\n",
      "   ---------------------------------------- 0.0/2.6 MB ? eta -:--:--\n",
      "   ------- -------------------------------- 0.5/2.6 MB 3.4 MB/s eta 0:00:01\n",
      "   ----------------------- ---------------- 1.6/2.6 MB 3.7 MB/s eta 0:00:01\n",
      "   ------------------------------- -------- 2.1/2.6 MB 3.6 MB/s eta 0:00:01\n",
      "   ---------------------------------------- 2.6/2.6 MB 3.4 MB/s eta 0:00:00\n",
      "Downloading pyparsing-3.2.1-py3-none-any.whl (107 kB)\n",
      "Installing collected packages: pyparsing, pillow, kiwisolver, fonttools, cycler, contourpy, matplotlib\n",
      "Successfully installed contourpy-1.3.1 cycler-0.12.1 fonttools-4.56.0 kiwisolver-1.4.8 matplotlib-3.10.1 pillow-11.1.0 pyparsing-3.2.1\n",
      "Note: you may need to restart the kernel to use updated packages.\n",
      "Collecting seaborn\n",
      "  Downloading seaborn-0.13.2-py3-none-any.whl.metadata (5.4 kB)\n",
      "Requirement already satisfied: numpy!=1.24.0,>=1.20 in c:\\users\\hp\\onedrive\\desktop\\dataviz\\data_viz_project_iitm\\.venv\\lib\\site-packages (from seaborn) (2.2.4)\n",
      "Requirement already satisfied: pandas>=1.2 in c:\\users\\hp\\onedrive\\desktop\\dataviz\\data_viz_project_iitm\\.venv\\lib\\site-packages (from seaborn) (2.2.3)\n",
      "Requirement already satisfied: matplotlib!=3.6.1,>=3.4 in c:\\users\\hp\\onedrive\\desktop\\dataviz\\data_viz_project_iitm\\.venv\\lib\\site-packages (from seaborn) (3.10.1)\n",
      "Requirement already satisfied: contourpy>=1.0.1 in c:\\users\\hp\\onedrive\\desktop\\dataviz\\data_viz_project_iitm\\.venv\\lib\\site-packages (from matplotlib!=3.6.1,>=3.4->seaborn) (1.3.1)\n",
      "Requirement already satisfied: cycler>=0.10 in c:\\users\\hp\\onedrive\\desktop\\dataviz\\data_viz_project_iitm\\.venv\\lib\\site-packages (from matplotlib!=3.6.1,>=3.4->seaborn) (0.12.1)\n",
      "Requirement already satisfied: fonttools>=4.22.0 in c:\\users\\hp\\onedrive\\desktop\\dataviz\\data_viz_project_iitm\\.venv\\lib\\site-packages (from matplotlib!=3.6.1,>=3.4->seaborn) (4.56.0)\n",
      "Requirement already satisfied: kiwisolver>=1.3.1 in c:\\users\\hp\\onedrive\\desktop\\dataviz\\data_viz_project_iitm\\.venv\\lib\\site-packages (from matplotlib!=3.6.1,>=3.4->seaborn) (1.4.8)\n",
      "Requirement already satisfied: packaging>=20.0 in c:\\users\\hp\\onedrive\\desktop\\dataviz\\data_viz_project_iitm\\.venv\\lib\\site-packages (from matplotlib!=3.6.1,>=3.4->seaborn) (24.2)\n",
      "Requirement already satisfied: pillow>=8 in c:\\users\\hp\\onedrive\\desktop\\dataviz\\data_viz_project_iitm\\.venv\\lib\\site-packages (from matplotlib!=3.6.1,>=3.4->seaborn) (11.1.0)\n",
      "Requirement already satisfied: pyparsing>=2.3.1 in c:\\users\\hp\\onedrive\\desktop\\dataviz\\data_viz_project_iitm\\.venv\\lib\\site-packages (from matplotlib!=3.6.1,>=3.4->seaborn) (3.2.1)\n",
      "Requirement already satisfied: python-dateutil>=2.7 in c:\\users\\hp\\onedrive\\desktop\\dataviz\\data_viz_project_iitm\\.venv\\lib\\site-packages (from matplotlib!=3.6.1,>=3.4->seaborn) (2.9.0.post0)\n",
      "Requirement already satisfied: pytz>=2020.1 in c:\\users\\hp\\onedrive\\desktop\\dataviz\\data_viz_project_iitm\\.venv\\lib\\site-packages (from pandas>=1.2->seaborn) (2025.1)\n",
      "Requirement already satisfied: tzdata>=2022.7 in c:\\users\\hp\\onedrive\\desktop\\dataviz\\data_viz_project_iitm\\.venv\\lib\\site-packages (from pandas>=1.2->seaborn) (2025.1)\n",
      "Requirement already satisfied: six>=1.5 in c:\\users\\hp\\onedrive\\desktop\\dataviz\\data_viz_project_iitm\\.venv\\lib\\site-packages (from python-dateutil>=2.7->matplotlib!=3.6.1,>=3.4->seaborn) (1.17.0)\n",
      "Downloading seaborn-0.13.2-py3-none-any.whl (294 kB)\n",
      "Installing collected packages: seaborn\n",
      "Successfully installed seaborn-0.13.2\n",
      "Note: you may need to restart the kernel to use updated packages.\n"
     ]
    }
   ],
   "source": [
    "%pip install pandas\n",
    "%pip install numpy\n",
    "%pip install matplotlib\n",
    "%pip install seaborn"
   ]
  },
  {
   "cell_type": "code",
   "execution_count": 118,
   "metadata": {},
   "outputs": [],
   "source": [
    "import pandas as pd"
   ]
  },
  {
   "cell_type": "code",
   "execution_count": 133,
   "metadata": {
    "colab": {
     "base_uri": "https://localhost:8080/"
    },
    "executionInfo": {
     "elapsed": 274,
     "status": "ok",
     "timestamp": 1742660037334,
     "user": {
      "displayName": "CHELAKARRI ANANTHA SAI SRIKAR",
      "userId": "13136291414777484027"
     },
     "user_tz": -330
    },
    "id": "4hkrAAaRmPrm",
    "outputId": "207f6c5f-ab41-4a0f-e3b8-2689b79331fc"
   },
   "outputs": [],
   "source": [
    "amazon=pd.read_csv(\"data/Amazon Sale Report.csv\")"
   ]
  },
  {
   "cell_type": "code",
   "execution_count": 120,
   "metadata": {
    "colab": {
     "base_uri": "https://localhost:8080/",
     "height": 805
    },
    "executionInfo": {
     "elapsed": 35,
     "status": "ok",
     "timestamp": 1742660047371,
     "user": {
      "displayName": "CHELAKARRI ANANTHA SAI SRIKAR",
      "userId": "13136291414777484027"
     },
     "user_tz": -330
    },
    "id": "IQ_k_ky6o-Sq",
    "outputId": "7e5c4b5a-f7ab-4cca-ccc1-491c9ebd6dc4"
   },
   "outputs": [
    {
     "data": {
      "text/plain": [
       "index                       int64\n",
       "Order_ID                   object\n",
       "Order_Date                 object\n",
       "Order_Status               object\n",
       "Fulfillment_Type           object\n",
       "Sales_Channel              object\n",
       "Shipping_Service_Level     object\n",
       "Product_Style              object\n",
       "Product_SKU                object\n",
       "Product_Category           object\n",
       "Product_Size               object\n",
       "Amazon_Standard_ID         object\n",
       "Courier_Status             object\n",
       "Quantity                    int64\n",
       "Currency                   object\n",
       "Sale_Amount               float64\n",
       "Shipping_City              object\n",
       "Shipping_State             object\n",
       "Shipping_Postal_Code      float64\n",
       "Shipping_Country           object\n",
       "Promotion_IDs              object\n",
       "Business_to_Business         bool\n",
       "Fulfilled_By               object\n",
       "dtype: object"
      ]
     },
     "execution_count": 120,
     "metadata": {},
     "output_type": "execute_result"
    }
   ],
   "source": [
    "amazon.dtypes"
   ]
  },
  {
   "cell_type": "code",
   "execution_count": 121,
   "metadata": {
    "colab": {
     "base_uri": "https://localhost:8080/"
    },
    "executionInfo": {
     "elapsed": 84,
     "status": "ok",
     "timestamp": 1742660058070,
     "user": {
      "displayName": "CHELAKARRI ANANTHA SAI SRIKAR",
      "userId": "13136291414777484027"
     },
     "user_tz": -330
    },
    "id": "e4lhrDLK7GPq",
    "outputId": "d54451f7-bd8d-4bc3-892d-6a1cf5796145"
   },
   "outputs": [
    {
     "name": "stdout",
     "output_type": "stream",
     "text": [
      "index                         0\n",
      "Order_ID                      0\n",
      "Order_Date                    0\n",
      "Order_Status                  0\n",
      "Fulfillment_Type              0\n",
      "Sales_Channel                 0\n",
      "Shipping_Service_Level        0\n",
      "Product_Style                 0\n",
      "Product_SKU                   0\n",
      "Product_Category              0\n",
      "Product_Size                  0\n",
      "Amazon_Standard_ID            0\n",
      "Courier_Status             6872\n",
      "Quantity                      0\n",
      "Currency                   7795\n",
      "Sale_Amount                7795\n",
      "Shipping_City                33\n",
      "Shipping_State               33\n",
      "Shipping_Postal_Code         33\n",
      "Shipping_Country             33\n",
      "Promotion_IDs             49153\n",
      "Business_to_Business          0\n",
      "Fulfilled_By              89698\n",
      "dtype: int64\n"
     ]
    }
   ],
   "source": [
    "print(amazon.isnull().sum())"
   ]
  },
  {
   "cell_type": "markdown",
   "metadata": {
    "id": "DigVSficaU6B"
   },
   "source": [
    "Finding Percentage of missing values in each column"
   ]
  },
  {
   "cell_type": "code",
   "execution_count": 69,
   "metadata": {
    "colab": {
     "base_uri": "https://localhost:8080/"
    },
    "executionInfo": {
     "elapsed": 66,
     "status": "ok",
     "timestamp": 1742660074529,
     "user": {
      "displayName": "CHELAKARRI ANANTHA SAI SRIKAR",
      "userId": "13136291414777484027"
     },
     "user_tz": -330
    },
    "id": "l9jiFKqCaQHJ",
    "outputId": "6f095343-f3dd-4aa9-bb7c-2d54912b748a"
   },
   "outputs": [
    {
     "name": "stdout",
     "output_type": "stream",
     "text": [
      "index                      0.000000\n",
      "Order_ID                   0.000000\n",
      "Order_Date                 0.000000\n",
      "Order_Status               0.000000\n",
      "Fulfillment_Type           0.000000\n",
      "Sales_Channel              0.000000\n",
      "Shipping_Service_Level     0.000000\n",
      "Product_Style              0.000000\n",
      "Product_SKU                0.000000\n",
      "Product_Category           0.000000\n",
      "Product_Size               0.000000\n",
      "Amazon_Standard_ID         0.000000\n",
      "Courier_Status             5.328164\n",
      "Quantity                   0.000000\n",
      "Currency                   6.043807\n",
      "Sale_Amount                6.043807\n",
      "Shipping_City              0.025586\n",
      "Shipping_State             0.025586\n",
      "Shipping_Postal_Code       0.025586\n",
      "Shipping_Country           0.025586\n",
      "Promotion_IDs             38.110487\n",
      "Business_to_Business       0.000000\n",
      "Fulfilled_By              69.546811\n",
      "dtype: float64\n"
     ]
    }
   ],
   "source": [
    "missing_percentage = amazon.isnull().sum() / len(amazon) * 100\n",
    "print(missing_percentage)"
   ]
  },
  {
   "cell_type": "markdown",
   "metadata": {
    "id": "3Ml5xqjZaDPv"
   },
   "source": [
    "Dropping Columns with large percentage of missing values"
   ]
  },
  {
   "cell_type": "code",
   "execution_count": 134,
   "metadata": {
    "executionInfo": {
     "elapsed": 22,
     "status": "ok",
     "timestamp": 1742645728947,
     "user": {
      "displayName": "CHELAKARRI ANANTHA SAI SRIKAR",
      "userId": "13136291414777484027"
     },
     "user_tz": -330
    },
    "id": "eVZkqBXlSovL"
   },
   "outputs": [],
   "source": [
    "amazon.drop('Fulfilled_By', axis=1, inplace=True)"
   ]
  },
  {
   "cell_type": "code",
   "execution_count": 135,
   "metadata": {
    "executionInfo": {
     "elapsed": 31,
     "status": "ok",
     "timestamp": 1742645729974,
     "user": {
      "displayName": "CHELAKARRI ANANTHA SAI SRIKAR",
      "userId": "13136291414777484027"
     },
     "user_tz": -330
    },
    "id": "c4al5XEYZozp"
   },
   "outputs": [],
   "source": [
    "amazon.drop('Promotion_IDs', axis=1, inplace=True)"
   ]
  },
  {
   "cell_type": "markdown",
   "metadata": {
    "id": "-JAxk5znbJXp"
   },
   "source": [
    "Imputation of missing values for remaing columns (int, float)"
   ]
  },
  {
   "cell_type": "code",
   "execution_count": 136,
   "metadata": {},
   "outputs": [],
   "source": [
    "def fill_na_based_on_skew(df, column):\n",
    "    skewness = df[column].skew()\n",
    "\n",
    "    if abs(skewness) > 1: \n",
    "        df[column].fillna(df[column].median(), inplace=True)\n",
    "    else: \n",
    "        df[column].fillna(df[column].mean(), inplace=True)"
   ]
  },
  {
   "cell_type": "code",
   "execution_count": null,
   "metadata": {
    "colab": {
     "base_uri": "https://localhost:8080/"
    },
    "executionInfo": {
     "elapsed": 19,
     "status": "ok",
     "timestamp": 1742645732358,
     "user": {
      "displayName": "CHELAKARRI ANANTHA SAI SRIKAR",
      "userId": "13136291414777484027"
     },
     "user_tz": -330
    },
    "id": "OprQR7qXaOgP",
    "outputId": "579ecc08-9340-4cc3-d853-440472c4c982"
   },
   "outputs": [
    {
     "name": "stderr",
     "output_type": "stream",
     "text": [
      "C:\\Users\\HP\\AppData\\Local\\Temp\\ipykernel_15080\\3934627601.py:7: FutureWarning: A value is trying to be set on a copy of a DataFrame or Series through chained assignment using an inplace method.\n",
      "The behavior will change in pandas 3.0. This inplace method will never work because the intermediate object on which we are setting values always behaves as a copy.\n",
      "\n",
      "For example, when doing 'df[col].method(value, inplace=True)', try using 'df.method({col: value}, inplace=True)' or df[col] = df[col].method(value) instead, to perform the operation inplace on the original object.\n",
      "\n",
      "\n",
      "  df[column].fillna(df[column].mean(), inplace=True)\n"
     ]
    }
   ],
   "source": [
    "fill_na_based_on_skew(amazon, 'Sale_Amount')"
   ]
  },
  {
   "cell_type": "markdown",
   "metadata": {
    "id": "H_fxTkFKfkw5"
   },
   "source": [
    "Imputation of missing values for Categorical Columns"
   ]
  },
  {
   "cell_type": "code",
   "execution_count": 74,
   "metadata": {},
   "outputs": [],
   "source": [
    "def fill_categorical_missing(df, categorical_columns):\n",
    "    total_rows = len(df)\n",
    "\n",
    "    for col in categorical_columns:\n",
    "        unique_count = df[col].nunique()\n",
    "        cardinality_ratio = unique_count / total_rows  \n",
    "\n",
    "        if cardinality_ratio < 0.05:  \n",
    "            df[col].fillna(df[col].mode()[0], inplace=True)\n",
    "\n",
    "        elif 0.05 <= cardinality_ratio <= 0.20:  \n",
    "            if df[col].mode()[0] != \"Unknown\":  \n",
    "                df[col].fillna(df[col].mode()[0], inplace=True)\n",
    "            else:\n",
    "                df[col].fillna(\"Unknown\", inplace=True)\n",
    "\n",
    "        else: \n",
    "            df[col].fillna(\"Unknown\", inplace=True)\n",
    "\n",
    "    return df"
   ]
  },
  {
   "cell_type": "code",
   "execution_count": null,
   "metadata": {},
   "outputs": [
    {
     "name": "stdout",
     "output_type": "stream",
     "text": [
      "Unique values in 'Shipping_State':\n",
      "'ANDAMAN & NICOBAR '\n",
      "'ANDHRA PRADESH'\n",
      "'APO'\n",
      "'AR'\n",
      "'ARUNACHAL PRADESH'\n",
      "'ASSAM'\n",
      "'Arunachal Pradesh'\n",
      "'Arunachal pradesh'\n",
      "'BIHAR'\n",
      "'Bihar'\n",
      "'CHANDIGARH'\n",
      "'CHHATTISGARH'\n",
      "'Chandigarh'\n",
      "'DADRA AND NAGAR'\n",
      "'DELHI'\n",
      "'Delhi'\n",
      "'GOA'\n",
      "'Goa'\n",
      "'Gujarat'\n",
      "'HARYANA'\n",
      "'HIMACHAL PRADESH'\n",
      "'JAMMU & KASHMIR'\n",
      "'JHARKHAND'\n",
      "'KARNATAKA'\n",
      "'KERALA'\n",
      "'LADAKH'\n",
      "'LAKSHADWEEP'\n",
      "'MADHYA PRADESH'\n",
      "'MAHARASHTRA'\n",
      "'MANIPUR'\n",
      "'MEGHALAYA'\n",
      "'MIZORAM'\n",
      "'Manipur'\n",
      "'Meghalaya'\n",
      "'Mizoram'\n",
      "'NAGALAND'\n",
      "'NL'\n",
      "'Nagaland'\n",
      "'New Delhi'\n",
      "'ODISHA'\n",
      "'Odisha'\n",
      "'Orissa'\n",
      "'PB'\n",
      "'PUDUCHERRY'\n",
      "'PUNJAB'\n",
      "'Pondicherry'\n",
      "'Puducherry'\n",
      "'Punjab'\n",
      "'Punjab/Mohali/Zirakpur'\n",
      "'RAJASTHAN'\n",
      "'RJ'\n",
      "'Rajasthan'\n",
      "'Rajshthan'\n",
      "'Rajsthan'\n",
      "'SIKKIM'\n",
      "'Sikkim'\n",
      "'TAMIL NADU'\n",
      "'TELANGANA'\n",
      "'TRIPURA'\n",
      "'UTTAR PRADESH'\n",
      "'UTTARAKHAND'\n",
      "'WEST BENGAL'\n",
      "'bihar'\n",
      "'delhi'\n",
      "'goa'\n",
      "'orissa'\n",
      "'punjab'\n",
      "'rajasthan'\n",
      "'rajsthan'\n",
      "\n",
      "Total unique values: 69\n"
     ]
    }
   ],
   "source": [
    "def check_unique_values(df, column):\n",
    "    print(f\"Unique values in '{column}':\")\n",
    "    unique_values = df[column].dropna().unique() \n",
    "    for value in sorted(unique_values):\n",
    "        print(repr(value)) \n",
    "    print(f\"\\nTotal unique values: {len(unique_values)}\")\n",
    "\n",
    "check_unique_values(amazon, 'Courier_Status')\n",
    "check_unique_values(amazon, 'Currency')\n",
    "check_unique_values(amazon, 'Shipping_City')\n",
    "check_unique_values(amazon, 'Shipping_State')\n",
    "check_unique_values(amazon, 'Shipping_Country')"
   ]
  },
  {
   "cell_type": "code",
   "execution_count": null,
   "metadata": {
    "colab": {
     "base_uri": "https://localhost:8080/"
    },
    "executionInfo": {
     "elapsed": 9,
     "status": "ok",
     "timestamp": 1742645735253,
     "user": {
      "displayName": "CHELAKARRI ANANTHA SAI SRIKAR",
      "userId": "13136291414777484027"
     },
     "user_tz": -330
    },
    "id": "XXl-6tz4fyt9",
    "outputId": "93cbf3b2-b74f-4284-a7f4-32c4d5aa9091"
   },
   "outputs": [
    {
     "name": "stderr",
     "output_type": "stream",
     "text": [
      "C:\\Users\\HP\\AppData\\Local\\Temp\\ipykernel_15080\\3297095365.py:9: FutureWarning: A value is trying to be set on a copy of a DataFrame or Series through chained assignment using an inplace method.\n",
      "The behavior will change in pandas 3.0. This inplace method will never work because the intermediate object on which we are setting values always behaves as a copy.\n",
      "\n",
      "For example, when doing 'df[col].method(value, inplace=True)', try using 'df.method({col: value}, inplace=True)' or df[col] = df[col].method(value) instead, to perform the operation inplace on the original object.\n",
      "\n",
      "\n",
      "  df[col].fillna(df[col].mode()[0], inplace=True)\n",
      "C:\\Users\\HP\\AppData\\Local\\Temp\\ipykernel_15080\\3297095365.py:13: FutureWarning: A value is trying to be set on a copy of a DataFrame or Series through chained assignment using an inplace method.\n",
      "The behavior will change in pandas 3.0. This inplace method will never work because the intermediate object on which we are setting values always behaves as a copy.\n",
      "\n",
      "For example, when doing 'df[col].method(value, inplace=True)', try using 'df.method({col: value}, inplace=True)' or df[col] = df[col].method(value) instead, to perform the operation inplace on the original object.\n",
      "\n",
      "\n",
      "  df[col].fillna(df[col].mode()[0], inplace=True)\n"
     ]
    },
    {
     "data": {
      "text/html": [
       "<div>\n",
       "<style scoped>\n",
       "    .dataframe tbody tr th:only-of-type {\n",
       "        vertical-align: middle;\n",
       "    }\n",
       "\n",
       "    .dataframe tbody tr th {\n",
       "        vertical-align: top;\n",
       "    }\n",
       "\n",
       "    .dataframe thead th {\n",
       "        text-align: right;\n",
       "    }\n",
       "</style>\n",
       "<table border=\"1\" class=\"dataframe\">\n",
       "  <thead>\n",
       "    <tr style=\"text-align: right;\">\n",
       "      <th></th>\n",
       "      <th>index</th>\n",
       "      <th>Order_ID</th>\n",
       "      <th>Order_Date</th>\n",
       "      <th>Order_Status</th>\n",
       "      <th>Fulfillment_Type</th>\n",
       "      <th>Sales_Channel</th>\n",
       "      <th>Shipping_Service_Level</th>\n",
       "      <th>Product_Style</th>\n",
       "      <th>Product_SKU</th>\n",
       "      <th>Product_Category</th>\n",
       "      <th>...</th>\n",
       "      <th>Amazon_Standard_ID</th>\n",
       "      <th>Courier_Status</th>\n",
       "      <th>Quantity</th>\n",
       "      <th>Currency</th>\n",
       "      <th>Sale_Amount</th>\n",
       "      <th>Shipping_City</th>\n",
       "      <th>Shipping_State</th>\n",
       "      <th>Shipping_Postal_Code</th>\n",
       "      <th>Shipping_Country</th>\n",
       "      <th>Business_to_Business</th>\n",
       "    </tr>\n",
       "  </thead>\n",
       "  <tbody>\n",
       "    <tr>\n",
       "      <th>0</th>\n",
       "      <td>0</td>\n",
       "      <td>405-8078784-5731545</td>\n",
       "      <td>4/30/2022</td>\n",
       "      <td>Cancelled</td>\n",
       "      <td>Merchant</td>\n",
       "      <td>Amazon.in</td>\n",
       "      <td>Standard</td>\n",
       "      <td>SET389</td>\n",
       "      <td>SET389-KR-NP-S</td>\n",
       "      <td>Set</td>\n",
       "      <td>...</td>\n",
       "      <td>B09KXVBD7Z</td>\n",
       "      <td>Shipped</td>\n",
       "      <td>0</td>\n",
       "      <td>INR</td>\n",
       "      <td>647.62</td>\n",
       "      <td>MUMBAI</td>\n",
       "      <td>MAHARASHTRA</td>\n",
       "      <td>400081.0</td>\n",
       "      <td>IN</td>\n",
       "      <td>False</td>\n",
       "    </tr>\n",
       "    <tr>\n",
       "      <th>1</th>\n",
       "      <td>1</td>\n",
       "      <td>171-9198151-1101146</td>\n",
       "      <td>4/30/2022</td>\n",
       "      <td>Shipped - Delivered to Buyer</td>\n",
       "      <td>Merchant</td>\n",
       "      <td>Amazon.in</td>\n",
       "      <td>Standard</td>\n",
       "      <td>JNE3781</td>\n",
       "      <td>JNE3781-KR-XXXL</td>\n",
       "      <td>kurta</td>\n",
       "      <td>...</td>\n",
       "      <td>B09K3WFS32</td>\n",
       "      <td>Shipped</td>\n",
       "      <td>1</td>\n",
       "      <td>INR</td>\n",
       "      <td>406.00</td>\n",
       "      <td>BENGALURU</td>\n",
       "      <td>KARNATAKA</td>\n",
       "      <td>560085.0</td>\n",
       "      <td>IN</td>\n",
       "      <td>False</td>\n",
       "    </tr>\n",
       "    <tr>\n",
       "      <th>2</th>\n",
       "      <td>2</td>\n",
       "      <td>404-0687676-7273146</td>\n",
       "      <td>4/30/2022</td>\n",
       "      <td>Shipped</td>\n",
       "      <td>Amazon</td>\n",
       "      <td>Amazon.in</td>\n",
       "      <td>Expedited</td>\n",
       "      <td>JNE3371</td>\n",
       "      <td>JNE3371-KR-XL</td>\n",
       "      <td>kurta</td>\n",
       "      <td>...</td>\n",
       "      <td>B07WV4JV4D</td>\n",
       "      <td>Shipped</td>\n",
       "      <td>1</td>\n",
       "      <td>INR</td>\n",
       "      <td>329.00</td>\n",
       "      <td>NAVI MUMBAI</td>\n",
       "      <td>MAHARASHTRA</td>\n",
       "      <td>410210.0</td>\n",
       "      <td>IN</td>\n",
       "      <td>True</td>\n",
       "    </tr>\n",
       "    <tr>\n",
       "      <th>3</th>\n",
       "      <td>3</td>\n",
       "      <td>403-9615377-8133951</td>\n",
       "      <td>4/30/2022</td>\n",
       "      <td>Cancelled</td>\n",
       "      <td>Merchant</td>\n",
       "      <td>Amazon.in</td>\n",
       "      <td>Standard</td>\n",
       "      <td>J0341</td>\n",
       "      <td>J0341-DR-L</td>\n",
       "      <td>Western Dress</td>\n",
       "      <td>...</td>\n",
       "      <td>B099NRCT7B</td>\n",
       "      <td>Shipped</td>\n",
       "      <td>0</td>\n",
       "      <td>INR</td>\n",
       "      <td>753.33</td>\n",
       "      <td>PUDUCHERRY</td>\n",
       "      <td>PUDUCHERRY</td>\n",
       "      <td>605008.0</td>\n",
       "      <td>IN</td>\n",
       "      <td>False</td>\n",
       "    </tr>\n",
       "    <tr>\n",
       "      <th>4</th>\n",
       "      <td>4</td>\n",
       "      <td>407-1069790-7240320</td>\n",
       "      <td>4/30/2022</td>\n",
       "      <td>Shipped</td>\n",
       "      <td>Amazon</td>\n",
       "      <td>Amazon.in</td>\n",
       "      <td>Expedited</td>\n",
       "      <td>JNE3671</td>\n",
       "      <td>JNE3671-TU-XXXL</td>\n",
       "      <td>Top</td>\n",
       "      <td>...</td>\n",
       "      <td>B098714BZP</td>\n",
       "      <td>Shipped</td>\n",
       "      <td>1</td>\n",
       "      <td>INR</td>\n",
       "      <td>574.00</td>\n",
       "      <td>CHENNAI</td>\n",
       "      <td>TAMIL NADU</td>\n",
       "      <td>600073.0</td>\n",
       "      <td>IN</td>\n",
       "      <td>False</td>\n",
       "    </tr>\n",
       "    <tr>\n",
       "      <th>...</th>\n",
       "      <td>...</td>\n",
       "      <td>...</td>\n",
       "      <td>...</td>\n",
       "      <td>...</td>\n",
       "      <td>...</td>\n",
       "      <td>...</td>\n",
       "      <td>...</td>\n",
       "      <td>...</td>\n",
       "      <td>...</td>\n",
       "      <td>...</td>\n",
       "      <td>...</td>\n",
       "      <td>...</td>\n",
       "      <td>...</td>\n",
       "      <td>...</td>\n",
       "      <td>...</td>\n",
       "      <td>...</td>\n",
       "      <td>...</td>\n",
       "      <td>...</td>\n",
       "      <td>...</td>\n",
       "      <td>...</td>\n",
       "      <td>...</td>\n",
       "    </tr>\n",
       "    <tr>\n",
       "      <th>128970</th>\n",
       "      <td>128970</td>\n",
       "      <td>406-6001380-7673107</td>\n",
       "      <td>5/31/2022</td>\n",
       "      <td>Shipped</td>\n",
       "      <td>Amazon</td>\n",
       "      <td>Amazon.in</td>\n",
       "      <td>Expedited</td>\n",
       "      <td>JNE3697</td>\n",
       "      <td>JNE3697-KR-XL</td>\n",
       "      <td>kurta</td>\n",
       "      <td>...</td>\n",
       "      <td>B098112V2V</td>\n",
       "      <td>Shipped</td>\n",
       "      <td>1</td>\n",
       "      <td>INR</td>\n",
       "      <td>517.00</td>\n",
       "      <td>HYDERABAD</td>\n",
       "      <td>TELANGANA</td>\n",
       "      <td>500013.0</td>\n",
       "      <td>IN</td>\n",
       "      <td>False</td>\n",
       "    </tr>\n",
       "    <tr>\n",
       "      <th>128971</th>\n",
       "      <td>128971</td>\n",
       "      <td>402-9551604-7544318</td>\n",
       "      <td>5/31/2022</td>\n",
       "      <td>Shipped</td>\n",
       "      <td>Amazon</td>\n",
       "      <td>Amazon.in</td>\n",
       "      <td>Expedited</td>\n",
       "      <td>SET401</td>\n",
       "      <td>SET401-KR-NP-M</td>\n",
       "      <td>Set</td>\n",
       "      <td>...</td>\n",
       "      <td>B09VC6KHX8</td>\n",
       "      <td>Shipped</td>\n",
       "      <td>1</td>\n",
       "      <td>INR</td>\n",
       "      <td>999.00</td>\n",
       "      <td>GURUGRAM</td>\n",
       "      <td>HARYANA</td>\n",
       "      <td>122004.0</td>\n",
       "      <td>IN</td>\n",
       "      <td>False</td>\n",
       "    </tr>\n",
       "    <tr>\n",
       "      <th>128972</th>\n",
       "      <td>128972</td>\n",
       "      <td>407-9547469-3152358</td>\n",
       "      <td>5/31/2022</td>\n",
       "      <td>Shipped</td>\n",
       "      <td>Amazon</td>\n",
       "      <td>Amazon.in</td>\n",
       "      <td>Expedited</td>\n",
       "      <td>J0157</td>\n",
       "      <td>J0157-DR-XXL</td>\n",
       "      <td>Western Dress</td>\n",
       "      <td>...</td>\n",
       "      <td>B0982YZ51B</td>\n",
       "      <td>Shipped</td>\n",
       "      <td>1</td>\n",
       "      <td>INR</td>\n",
       "      <td>690.00</td>\n",
       "      <td>HYDERABAD</td>\n",
       "      <td>TELANGANA</td>\n",
       "      <td>500049.0</td>\n",
       "      <td>IN</td>\n",
       "      <td>False</td>\n",
       "    </tr>\n",
       "    <tr>\n",
       "      <th>128973</th>\n",
       "      <td>128973</td>\n",
       "      <td>402-6184140-0545956</td>\n",
       "      <td>5/31/2022</td>\n",
       "      <td>Shipped</td>\n",
       "      <td>Amazon</td>\n",
       "      <td>Amazon.in</td>\n",
       "      <td>Expedited</td>\n",
       "      <td>J0012</td>\n",
       "      <td>J0012-SKD-XS</td>\n",
       "      <td>Set</td>\n",
       "      <td>...</td>\n",
       "      <td>B0894Y2NJQ</td>\n",
       "      <td>Shipped</td>\n",
       "      <td>1</td>\n",
       "      <td>INR</td>\n",
       "      <td>1199.00</td>\n",
       "      <td>Halol</td>\n",
       "      <td>Gujarat</td>\n",
       "      <td>389350.0</td>\n",
       "      <td>IN</td>\n",
       "      <td>False</td>\n",
       "    </tr>\n",
       "    <tr>\n",
       "      <th>128974</th>\n",
       "      <td>128974</td>\n",
       "      <td>408-7436540-8728312</td>\n",
       "      <td>5/31/2022</td>\n",
       "      <td>Shipped</td>\n",
       "      <td>Amazon</td>\n",
       "      <td>Amazon.in</td>\n",
       "      <td>Expedited</td>\n",
       "      <td>J0003</td>\n",
       "      <td>J0003-SET-S</td>\n",
       "      <td>Set</td>\n",
       "      <td>...</td>\n",
       "      <td>B0894X27FC</td>\n",
       "      <td>Shipped</td>\n",
       "      <td>1</td>\n",
       "      <td>INR</td>\n",
       "      <td>696.00</td>\n",
       "      <td>Raipur</td>\n",
       "      <td>CHHATTISGARH</td>\n",
       "      <td>492014.0</td>\n",
       "      <td>IN</td>\n",
       "      <td>False</td>\n",
       "    </tr>\n",
       "  </tbody>\n",
       "</table>\n",
       "<p>128975 rows × 21 columns</p>\n",
       "</div>"
      ],
      "text/plain": [
       "         index             Order_ID Order_Date                  Order_Status  \\\n",
       "0            0  405-8078784-5731545  4/30/2022                     Cancelled   \n",
       "1            1  171-9198151-1101146  4/30/2022  Shipped - Delivered to Buyer   \n",
       "2            2  404-0687676-7273146  4/30/2022                       Shipped   \n",
       "3            3  403-9615377-8133951  4/30/2022                     Cancelled   \n",
       "4            4  407-1069790-7240320  4/30/2022                       Shipped   \n",
       "...        ...                  ...        ...                           ...   \n",
       "128970  128970  406-6001380-7673107  5/31/2022                       Shipped   \n",
       "128971  128971  402-9551604-7544318  5/31/2022                       Shipped   \n",
       "128972  128972  407-9547469-3152358  5/31/2022                       Shipped   \n",
       "128973  128973  402-6184140-0545956  5/31/2022                       Shipped   \n",
       "128974  128974  408-7436540-8728312  5/31/2022                       Shipped   \n",
       "\n",
       "       Fulfillment_Type Sales_Channel Shipping_Service_Level Product_Style  \\\n",
       "0              Merchant     Amazon.in               Standard        SET389   \n",
       "1              Merchant     Amazon.in               Standard       JNE3781   \n",
       "2                Amazon     Amazon.in              Expedited       JNE3371   \n",
       "3              Merchant     Amazon.in               Standard         J0341   \n",
       "4                Amazon     Amazon.in              Expedited       JNE3671   \n",
       "...                 ...           ...                    ...           ...   \n",
       "128970           Amazon     Amazon.in              Expedited       JNE3697   \n",
       "128971           Amazon     Amazon.in              Expedited        SET401   \n",
       "128972           Amazon     Amazon.in              Expedited         J0157   \n",
       "128973           Amazon     Amazon.in              Expedited         J0012   \n",
       "128974           Amazon     Amazon.in              Expedited         J0003   \n",
       "\n",
       "            Product_SKU Product_Category  ... Amazon_Standard_ID  \\\n",
       "0        SET389-KR-NP-S              Set  ...         B09KXVBD7Z   \n",
       "1       JNE3781-KR-XXXL            kurta  ...         B09K3WFS32   \n",
       "2         JNE3371-KR-XL            kurta  ...         B07WV4JV4D   \n",
       "3            J0341-DR-L    Western Dress  ...         B099NRCT7B   \n",
       "4       JNE3671-TU-XXXL              Top  ...         B098714BZP   \n",
       "...                 ...              ...  ...                ...   \n",
       "128970    JNE3697-KR-XL            kurta  ...         B098112V2V   \n",
       "128971   SET401-KR-NP-M              Set  ...         B09VC6KHX8   \n",
       "128972     J0157-DR-XXL    Western Dress  ...         B0982YZ51B   \n",
       "128973     J0012-SKD-XS              Set  ...         B0894Y2NJQ   \n",
       "128974      J0003-SET-S              Set  ...         B0894X27FC   \n",
       "\n",
       "       Courier_Status Quantity  Currency Sale_Amount  Shipping_City  \\\n",
       "0             Shipped        0       INR      647.62         MUMBAI   \n",
       "1             Shipped        1       INR      406.00      BENGALURU   \n",
       "2             Shipped        1       INR      329.00    NAVI MUMBAI   \n",
       "3             Shipped        0       INR      753.33     PUDUCHERRY   \n",
       "4             Shipped        1       INR      574.00        CHENNAI   \n",
       "...               ...      ...       ...         ...            ...   \n",
       "128970        Shipped        1       INR      517.00      HYDERABAD   \n",
       "128971        Shipped        1       INR      999.00       GURUGRAM   \n",
       "128972        Shipped        1       INR      690.00      HYDERABAD   \n",
       "128973        Shipped        1       INR     1199.00          Halol   \n",
       "128974        Shipped        1       INR      696.00         Raipur   \n",
       "\n",
       "       Shipping_State Shipping_Postal_Code  Shipping_Country  \\\n",
       "0         MAHARASHTRA             400081.0                IN   \n",
       "1           KARNATAKA             560085.0                IN   \n",
       "2         MAHARASHTRA             410210.0                IN   \n",
       "3          PUDUCHERRY             605008.0                IN   \n",
       "4          TAMIL NADU             600073.0                IN   \n",
       "...               ...                  ...               ...   \n",
       "128970      TELANGANA             500013.0                IN   \n",
       "128971        HARYANA             122004.0                IN   \n",
       "128972      TELANGANA             500049.0                IN   \n",
       "128973        Gujarat             389350.0                IN   \n",
       "128974   CHHATTISGARH             492014.0                IN   \n",
       "\n",
       "       Business_to_Business  \n",
       "0                     False  \n",
       "1                     False  \n",
       "2                      True  \n",
       "3                     False  \n",
       "4                     False  \n",
       "...                     ...  \n",
       "128970                False  \n",
       "128971                False  \n",
       "128972                False  \n",
       "128973                False  \n",
       "128974                False  \n",
       "\n",
       "[128975 rows x 21 columns]"
      ]
     },
     "execution_count": 75,
     "metadata": {},
     "output_type": "execute_result"
    }
   ],
   "source": [
    "categorical_cols=['Courier_Status','Currency','Shipping_City','Shipping_State','Shipping_Country']\n",
    "\n",
    "fill_categorical_missing(amazon, categorical_cols)"
   ]
  },
  {
   "cell_type": "markdown",
   "metadata": {
    "id": "l7hT4Sfdidoh"
   },
   "source": [
    "Imputation for \"Shipping_Postal_Code\""
   ]
  },
  {
   "cell_type": "code",
   "execution_count": 76,
   "metadata": {},
   "outputs": [],
   "source": [
    "def fill_missing_mode(group):\n",
    "    mode_value = group.mode()\n",
    "    return group.fillna(mode_value[0] if not mode_value.empty else 'Unknown')"
   ]
  },
  {
   "cell_type": "code",
   "execution_count": 78,
   "metadata": {
    "colab": {
     "base_uri": "https://localhost:8080/"
    },
    "executionInfo": {
     "elapsed": 5062,
     "status": "ok",
     "timestamp": 1742645746869,
     "user": {
      "displayName": "CHELAKARRI ANANTHA SAI SRIKAR",
      "userId": "13136291414777484027"
     },
     "user_tz": -330
    },
    "id": "pnHhWfA2ik06",
    "outputId": "1832efac-2f64-43b1-9d21-aa97fd9038a5"
   },
   "outputs": [
    {
     "name": "stdout",
     "output_type": "stream",
     "text": [
      "Empty DataFrame\n",
      "Columns: [index, Order_ID, Order_Date, Order_Status, Fulfillment_Type, Sales_Channel, Shipping_Service_Level, Product_Style, Product_SKU, Product_Category, Product_Size, Amazon_Standard_ID, Courier_Status, Quantity, Currency, Sale_Amount, Shipping_City, Shipping_State, Shipping_Postal_Code, Shipping_Country, Business_to_Business]\n",
      "Index: []\n",
      "\n",
      "[0 rows x 21 columns]\n"
     ]
    }
   ],
   "source": [
    "amazon['Shipping_Postal_Code'] = amazon['Shipping_Postal_Code'].astype(str)\n",
    "\n",
    "amazon['Shipping_Postal_Code'] = amazon.groupby(['Shipping_City', 'Shipping_State'])['Shipping_Postal_Code'].transform(fill_missing_mode)\n",
    "\n",
    "print(amazon[amazon['Shipping_City'].notnull() & amazon['Shipping_State'].notnull() & amazon['Shipping_Postal_Code'].isnull()])\n"
   ]
  },
  {
   "cell_type": "code",
   "execution_count": 79,
   "metadata": {},
   "outputs": [
    {
     "name": "stdout",
     "output_type": "stream",
     "text": [
      "Date_Format\n",
      "M/D/YYYY          73866\n",
      "UNKNOWN FORMAT    55109\n",
      "Name: count, dtype: int64\n"
     ]
    }
   ],
   "source": [
    "import re\n",
    "def identify_date_format(date):\n",
    "    date = str(date).strip() \n",
    "    \n",
    "    if re.match(r'^\\d{2}-\\d{2}-\\d{4}$', date): \n",
    "        return 'MM-DD-YYYY'\n",
    "    elif re.match(r'^\\d{1,2}/\\d{1,2}/\\d{4}$', date): \n",
    "        return 'M/D/YYYY'\n",
    "    elif re.match(r'^\\d{4}-\\d{2}-\\d{2}$', date): \n",
    "        return 'YYYY-MM-DD'\n",
    "    elif re.match(r'^\\d{1,2}-\\d{1,2}-\\d{2}$', date):  \n",
    "        return 'MM-DD-YY'\n",
    "    elif date.lower() in ['nan', 'nat', 'none', '']:  \n",
    "        return 'MISSING'\n",
    "    else:\n",
    "        return 'UNKNOWN FORMAT'\n",
    "\n",
    "amazon['Date_Format'] = amazon['Order_Date'].apply(identify_date_format)\n",
    "\n",
    "format_counts = amazon['Date_Format'].value_counts()\n",
    "print(format_counts)"
   ]
  },
  {
   "cell_type": "code",
   "execution_count": 80,
   "metadata": {},
   "outputs": [
    {
     "name": "stdout",
     "output_type": "stream",
     "text": [
      "41231     04/05/22\n",
      "31146     04/12/22\n",
      "31315     04/12/22\n",
      "87974     05/02/22\n",
      "89102     05/02/22\n",
      "73006     05/12/22\n",
      "86591     05/03/22\n",
      "126969    06/02/22\n",
      "125633    06/03/22\n",
      "41078     04/06/22\n",
      "113796    06/11/22\n",
      "111258    06/12/22\n",
      "88372     05/02/22\n",
      "85939     05/03/22\n",
      "80741     05/06/22\n",
      "127714    06/01/22\n",
      "79971     05/07/22\n",
      "87998     05/02/22\n",
      "34809     04/09/22\n",
      "85971     05/03/22\n",
      "Name: Order_Date, dtype: object\n"
     ]
    }
   ],
   "source": [
    "print(amazon[amazon['Date_Format'] == 'UNKNOWN FORMAT']['Order_Date'].sample(20, random_state=42))"
   ]
  },
  {
   "cell_type": "code",
   "execution_count": 81,
   "metadata": {},
   "outputs": [],
   "source": [
    "def fix_short_year_format(date):\n",
    "    date = str(date).strip() \n",
    "    if re.match(r'^\\d{1,2}/\\d{1,2}/\\d{2}$', date):  \n",
    "        return pd.to_datetime(date, format='%m/%d/%y').strftime('%#m/%#d/%Y') \n",
    "    return date  \n",
    "\n",
    "amazon['Order_Date'] = amazon['Order_Date'].apply(fix_short_year_format)\n",
    "\n"
   ]
  },
  {
   "cell_type": "code",
   "execution_count": 82,
   "metadata": {},
   "outputs": [
    {
     "name": "stdout",
     "output_type": "stream",
     "text": [
      "Date_Format\n",
      "M/D/YYYY    128975\n",
      "Name: count, dtype: int64\n"
     ]
    }
   ],
   "source": [
    "import re\n",
    "def identify_date_format(date):\n",
    "    date = str(date).strip() \n",
    "    \n",
    "    if re.match(r'^\\d{2}-\\d{2}-\\d{4}$', date): \n",
    "        return 'MM-DD-YYYY'\n",
    "    elif re.match(r'^\\d{1,2}/\\d{1,2}/\\d{4}$', date): \n",
    "        return 'M/D/YYYY'\n",
    "    elif re.match(r'^\\d{4}-\\d{2}-\\d{2}$', date): \n",
    "        return 'YYYY-MM-DD'\n",
    "    elif re.match(r'^\\d{1,2}-\\d{1,2}-\\d{2}$', date):  \n",
    "        return 'MM-DD-YY'\n",
    "    elif date.lower() in ['nan', 'nat', 'none', '']:  \n",
    "        return 'MISSING'\n",
    "    else:\n",
    "        return 'UNKNOWN FORMAT'\n",
    "\n",
    "amazon['Date_Format'] = amazon['Order_Date'].apply(identify_date_format)\n",
    "\n",
    "format_counts = amazon['Date_Format'].value_counts()\n",
    "print(format_counts)"
   ]
  },
  {
   "cell_type": "code",
   "execution_count": 83,
   "metadata": {},
   "outputs": [],
   "source": [
    "amazon['Order_Date'] = pd.to_datetime(amazon['Order_Date'], format='%m/%d/%Y', errors='raise')"
   ]
  },
  {
   "cell_type": "code",
   "execution_count": 84,
   "metadata": {
    "colab": {
     "base_uri": "https://localhost:8080/"
    },
    "executionInfo": {
     "elapsed": 22,
     "status": "ok",
     "timestamp": 1742645750849,
     "user": {
      "displayName": "CHELAKARRI ANANTHA SAI SRIKAR",
      "userId": "13136291414777484027"
     },
     "user_tz": -330
    },
    "id": "CchdqRQEg_it",
    "outputId": "af98af4f-87a1-4e90-f5b8-fb4b433e494d"
   },
   "outputs": [
    {
     "name": "stdout",
     "output_type": "stream",
     "text": [
      "index                     0\n",
      "Order_ID                  0\n",
      "Order_Date                0\n",
      "Order_Status              0\n",
      "Fulfillment_Type          0\n",
      "Sales_Channel             0\n",
      "Shipping_Service_Level    0\n",
      "Product_Style             0\n",
      "Product_SKU               0\n",
      "Product_Category          0\n",
      "Product_Size              0\n",
      "Amazon_Standard_ID        0\n",
      "Courier_Status            0\n",
      "Quantity                  0\n",
      "Currency                  0\n",
      "Sale_Amount               0\n",
      "Shipping_City             0\n",
      "Shipping_State            0\n",
      "Shipping_Postal_Code      0\n",
      "Shipping_Country          0\n",
      "Business_to_Business      0\n",
      "Date_Format               0\n",
      "dtype: int64\n"
     ]
    }
   ],
   "source": [
    "print(amazon.isnull().sum())"
   ]
  },
  {
   "cell_type": "code",
   "execution_count": 85,
   "metadata": {},
   "outputs": [],
   "source": [
    "amazon.drop(columns=['Date_Format'], inplace=True)"
   ]
  },
  {
   "cell_type": "code",
   "execution_count": 86,
   "metadata": {
    "colab": {
     "base_uri": "https://localhost:8080/"
    },
    "executionInfo": {
     "elapsed": 206,
     "status": "ok",
     "timestamp": 1742645755403,
     "user": {
      "displayName": "CHELAKARRI ANANTHA SAI SRIKAR",
      "userId": "13136291414777484027"
     },
     "user_tz": -330
    },
    "id": "vQMgg2T7jNiy",
    "outputId": "28506f5a-340a-47fe-9f6f-2cc0e28132cf"
   },
   "outputs": [
    {
     "name": "stdout",
     "output_type": "stream",
     "text": [
      "0\n"
     ]
    }
   ],
   "source": [
    "print(amazon.duplicated().sum())"
   ]
  },
  {
   "cell_type": "code",
   "execution_count": 87,
   "metadata": {
    "colab": {
     "base_uri": "https://localhost:8080/",
     "height": 742
    },
    "executionInfo": {
     "elapsed": 33,
     "status": "ok",
     "timestamp": 1742649282039,
     "user": {
      "displayName": "CHELAKARRI ANANTHA SAI SRIKAR",
      "userId": "13136291414777484027"
     },
     "user_tz": -330
    },
    "id": "nUyo3RXQkemK",
    "outputId": "5c84f7be-d2f1-4d86-8ccb-50a9498ffa5f"
   },
   "outputs": [
    {
     "data": {
      "text/plain": [
       "index                              int64\n",
       "Order_ID                          object\n",
       "Order_Date                datetime64[ns]\n",
       "Order_Status                      object\n",
       "Fulfillment_Type                  object\n",
       "Sales_Channel                     object\n",
       "Shipping_Service_Level            object\n",
       "Product_Style                     object\n",
       "Product_SKU                       object\n",
       "Product_Category                  object\n",
       "Product_Size                      object\n",
       "Amazon_Standard_ID                object\n",
       "Courier_Status                    object\n",
       "Quantity                           int64\n",
       "Currency                          object\n",
       "Sale_Amount                      float64\n",
       "Shipping_City                     object\n",
       "Shipping_State                    object\n",
       "Shipping_Postal_Code              object\n",
       "Shipping_Country                  object\n",
       "Business_to_Business                bool\n",
       "dtype: object"
      ]
     },
     "execution_count": 87,
     "metadata": {},
     "output_type": "execute_result"
    }
   ],
   "source": [
    "amazon.dtypes"
   ]
  },
  {
   "cell_type": "code",
   "execution_count": 88,
   "metadata": {
    "colab": {
     "base_uri": "https://localhost:8080/"
    },
    "executionInfo": {
     "elapsed": 10,
     "status": "ok",
     "timestamp": 1742645767889,
     "user": {
      "displayName": "CHELAKARRI ANANTHA SAI SRIKAR",
      "userId": "13136291414777484027"
     },
     "user_tz": -330
    },
    "id": "WramJYWSmHR4",
    "outputId": "44033b7a-4ebd-4754-d053-202c968d9ff6"
   },
   "outputs": [
    {
     "name": "stdout",
     "output_type": "stream",
     "text": [
      "648.5614647631622\n"
     ]
    }
   ],
   "source": [
    "print(amazon['Sale_Amount'].mean())"
   ]
  },
  {
   "cell_type": "markdown",
   "metadata": {
    "id": "nt3Lt29Ct1Gz"
   },
   "source": [
    "**SALES REPORT**"
   ]
  },
  {
   "cell_type": "code",
   "execution_count": 89,
   "metadata": {
    "executionInfo": {
     "elapsed": 21,
     "status": "ok",
     "timestamp": 1742645770125,
     "user": {
      "displayName": "CHELAKARRI ANANTHA SAI SRIKAR",
      "userId": "13136291414777484027"
     },
     "user_tz": -330
    },
    "id": "ap_x-yj-t7jq"
   },
   "outputs": [],
   "source": [
    "sales=pd.read_csv(\"data/Sale Report.csv\")"
   ]
  },
  {
   "cell_type": "code",
   "execution_count": 90,
   "metadata": {
    "colab": {
     "base_uri": "https://localhost:8080/",
     "height": 303
    },
    "executionInfo": {
     "elapsed": 7,
     "status": "ok",
     "timestamp": 1742645772047,
     "user": {
      "displayName": "CHELAKARRI ANANTHA SAI SRIKAR",
      "userId": "13136291414777484027"
     },
     "user_tz": -330
    },
    "id": "lb6DhAhVujgC",
    "outputId": "42eaeb56-cc01-4dae-995f-c5779be4a7fe"
   },
   "outputs": [
    {
     "data": {
      "text/plain": [
       "index                 int64\n",
       "Product_SKU          object\n",
       "Design_Number        object\n",
       "Stock_Level         float64\n",
       "Product_Category     object\n",
       "Product_Size         object\n",
       "Product_Color        object\n",
       "dtype: object"
      ]
     },
     "execution_count": 90,
     "metadata": {},
     "output_type": "execute_result"
    }
   ],
   "source": [
    "sales.dtypes"
   ]
  },
  {
   "cell_type": "code",
   "execution_count": 31,
   "metadata": {
    "colab": {
     "base_uri": "https://localhost:8080/"
    },
    "executionInfo": {
     "elapsed": 4,
     "status": "ok",
     "timestamp": 1742645777779,
     "user": {
      "displayName": "CHELAKARRI ANANTHA SAI SRIKAR",
      "userId": "13136291414777484027"
     },
     "user_tz": -330
    },
    "id": "TqAm0ptaumvh",
    "outputId": "f4e88782-26a6-4c01-b80a-53c609756c43"
   },
   "outputs": [
    {
     "name": "stdout",
     "output_type": "stream",
     "text": [
      "index                0\n",
      "Product_SKU         83\n",
      "Design_Number       36\n",
      "Stock_Level         36\n",
      "Product_Category    45\n",
      "Product_Size        36\n",
      "Product_Color       45\n",
      "dtype: int64\n"
     ]
    }
   ],
   "source": [
    "print(sales.isnull().sum())"
   ]
  },
  {
   "cell_type": "code",
   "execution_count": 32,
   "metadata": {
    "colab": {
     "base_uri": "https://localhost:8080/"
    },
    "executionInfo": {
     "elapsed": 8,
     "status": "ok",
     "timestamp": 1742644937861,
     "user": {
      "displayName": "CHELAKARRI ANANTHA SAI SRIKAR",
      "userId": "13136291414777484027"
     },
     "user_tz": -330
    },
    "id": "DGBx83Aouw25",
    "outputId": "637cb327-b380-4585-b7cb-90fa10d64f16"
   },
   "outputs": [
    {
     "name": "stdout",
     "output_type": "stream",
     "text": [
      "index               0.000000\n",
      "Product_SKU         0.895265\n",
      "Design_Number       0.388308\n",
      "Stock_Level         0.388308\n",
      "Product_Category    0.485385\n",
      "Product_Size        0.388308\n",
      "Product_Color       0.485385\n",
      "dtype: float64\n"
     ]
    }
   ],
   "source": [
    "missing_percentage = sales.isnull().sum() / len(sales) * 100\n",
    "print(missing_percentage)"
   ]
  },
  {
   "cell_type": "code",
   "execution_count": 91,
   "metadata": {
    "colab": {
     "base_uri": "https://localhost:8080/"
    },
    "executionInfo": {
     "elapsed": 13,
     "status": "ok",
     "timestamp": 1742645782938,
     "user": {
      "displayName": "CHELAKARRI ANANTHA SAI SRIKAR",
      "userId": "13136291414777484027"
     },
     "user_tz": -330
    },
    "id": "mtQjTJLJu6uA",
    "outputId": "9ec7edff-8476-4577-86a7-5f25df67fb69"
   },
   "outputs": [
    {
     "name": "stderr",
     "output_type": "stream",
     "text": [
      "C:\\Users\\HP\\AppData\\Local\\Temp\\ipykernel_15080\\3934627601.py:5: FutureWarning: A value is trying to be set on a copy of a DataFrame or Series through chained assignment using an inplace method.\n",
      "The behavior will change in pandas 3.0. This inplace method will never work because the intermediate object on which we are setting values always behaves as a copy.\n",
      "\n",
      "For example, when doing 'df[col].method(value, inplace=True)', try using 'df.method({col: value}, inplace=True)' or df[col] = df[col].method(value) instead, to perform the operation inplace on the original object.\n",
      "\n",
      "\n",
      "  df[column].fillna(df[column].median(), inplace=True)\n"
     ]
    }
   ],
   "source": [
    "fill_na_based_on_skew(sales, 'Stock_Level')"
   ]
  },
  {
   "cell_type": "code",
   "execution_count": 92,
   "metadata": {
    "colab": {
     "base_uri": "https://localhost:8080/"
    },
    "executionInfo": {
     "elapsed": 78,
     "status": "ok",
     "timestamp": 1742645786566,
     "user": {
      "displayName": "CHELAKARRI ANANTHA SAI SRIKAR",
      "userId": "13136291414777484027"
     },
     "user_tz": -330
    },
    "id": "Y2qCWETIwxpX",
    "outputId": "32a7b46b-dfd5-47f8-de70-0bf0a452c71b"
   },
   "outputs": [
    {
     "name": "stderr",
     "output_type": "stream",
     "text": [
      "C:\\Users\\HP\\AppData\\Local\\Temp\\ipykernel_15080\\3297095365.py:9: FutureWarning: A value is trying to be set on a copy of a DataFrame or Series through chained assignment using an inplace method.\n",
      "The behavior will change in pandas 3.0. This inplace method will never work because the intermediate object on which we are setting values always behaves as a copy.\n",
      "\n",
      "For example, when doing 'df[col].method(value, inplace=True)', try using 'df.method({col: value}, inplace=True)' or df[col] = df[col].method(value) instead, to perform the operation inplace on the original object.\n",
      "\n",
      "\n",
      "  df[col].fillna(df[col].mode()[0], inplace=True)\n"
     ]
    },
    {
     "data": {
      "text/html": [
       "<div>\n",
       "<style scoped>\n",
       "    .dataframe tbody tr th:only-of-type {\n",
       "        vertical-align: middle;\n",
       "    }\n",
       "\n",
       "    .dataframe tbody tr th {\n",
       "        vertical-align: top;\n",
       "    }\n",
       "\n",
       "    .dataframe thead th {\n",
       "        text-align: right;\n",
       "    }\n",
       "</style>\n",
       "<table border=\"1\" class=\"dataframe\">\n",
       "  <thead>\n",
       "    <tr style=\"text-align: right;\">\n",
       "      <th></th>\n",
       "      <th>index</th>\n",
       "      <th>Product_SKU</th>\n",
       "      <th>Design_Number</th>\n",
       "      <th>Stock_Level</th>\n",
       "      <th>Product_Category</th>\n",
       "      <th>Product_Size</th>\n",
       "      <th>Product_Color</th>\n",
       "    </tr>\n",
       "  </thead>\n",
       "  <tbody>\n",
       "    <tr>\n",
       "      <th>0</th>\n",
       "      <td>0</td>\n",
       "      <td>AN201-RED-L</td>\n",
       "      <td>AN201</td>\n",
       "      <td>5.0</td>\n",
       "      <td>AN : LEGGINGS</td>\n",
       "      <td>L</td>\n",
       "      <td>Red</td>\n",
       "    </tr>\n",
       "    <tr>\n",
       "      <th>1</th>\n",
       "      <td>1</td>\n",
       "      <td>AN201-RED-M</td>\n",
       "      <td>AN201</td>\n",
       "      <td>5.0</td>\n",
       "      <td>AN : LEGGINGS</td>\n",
       "      <td>M</td>\n",
       "      <td>Red</td>\n",
       "    </tr>\n",
       "    <tr>\n",
       "      <th>2</th>\n",
       "      <td>2</td>\n",
       "      <td>AN201-RED-S</td>\n",
       "      <td>AN201</td>\n",
       "      <td>3.0</td>\n",
       "      <td>AN : LEGGINGS</td>\n",
       "      <td>S</td>\n",
       "      <td>Red</td>\n",
       "    </tr>\n",
       "    <tr>\n",
       "      <th>3</th>\n",
       "      <td>3</td>\n",
       "      <td>AN201-RED-XL</td>\n",
       "      <td>AN201</td>\n",
       "      <td>6.0</td>\n",
       "      <td>AN : LEGGINGS</td>\n",
       "      <td>XL</td>\n",
       "      <td>Red</td>\n",
       "    </tr>\n",
       "    <tr>\n",
       "      <th>4</th>\n",
       "      <td>4</td>\n",
       "      <td>AN201-RED-XXL</td>\n",
       "      <td>AN201</td>\n",
       "      <td>3.0</td>\n",
       "      <td>AN : LEGGINGS</td>\n",
       "      <td>XXL</td>\n",
       "      <td>Red</td>\n",
       "    </tr>\n",
       "    <tr>\n",
       "      <th>...</th>\n",
       "      <td>...</td>\n",
       "      <td>...</td>\n",
       "      <td>...</td>\n",
       "      <td>...</td>\n",
       "      <td>...</td>\n",
       "      <td>...</td>\n",
       "      <td>...</td>\n",
       "    </tr>\n",
       "    <tr>\n",
       "      <th>9266</th>\n",
       "      <td>9266</td>\n",
       "      <td>NaN</td>\n",
       "      <td>NaN</td>\n",
       "      <td>8.0</td>\n",
       "      <td>KURTA</td>\n",
       "      <td>S</td>\n",
       "      <td>Blue</td>\n",
       "    </tr>\n",
       "    <tr>\n",
       "      <th>9267</th>\n",
       "      <td>9267</td>\n",
       "      <td>NaN</td>\n",
       "      <td>NaN</td>\n",
       "      <td>8.0</td>\n",
       "      <td>KURTA</td>\n",
       "      <td>S</td>\n",
       "      <td>Blue</td>\n",
       "    </tr>\n",
       "    <tr>\n",
       "      <th>9268</th>\n",
       "      <td>9268</td>\n",
       "      <td>NaN</td>\n",
       "      <td>NaN</td>\n",
       "      <td>8.0</td>\n",
       "      <td>KURTA</td>\n",
       "      <td>S</td>\n",
       "      <td>Blue</td>\n",
       "    </tr>\n",
       "    <tr>\n",
       "      <th>9269</th>\n",
       "      <td>9269</td>\n",
       "      <td>NaN</td>\n",
       "      <td>NaN</td>\n",
       "      <td>8.0</td>\n",
       "      <td>KURTA</td>\n",
       "      <td>S</td>\n",
       "      <td>Blue</td>\n",
       "    </tr>\n",
       "    <tr>\n",
       "      <th>9270</th>\n",
       "      <td>9270</td>\n",
       "      <td>NaN</td>\n",
       "      <td>NaN</td>\n",
       "      <td>8.0</td>\n",
       "      <td>KURTA</td>\n",
       "      <td>S</td>\n",
       "      <td>Blue</td>\n",
       "    </tr>\n",
       "  </tbody>\n",
       "</table>\n",
       "<p>9271 rows × 7 columns</p>\n",
       "</div>"
      ],
      "text/plain": [
       "      index    Product_SKU Design_Number  Stock_Level Product_Category  \\\n",
       "0         0    AN201-RED-L         AN201          5.0    AN : LEGGINGS   \n",
       "1         1    AN201-RED-M         AN201          5.0    AN : LEGGINGS   \n",
       "2         2    AN201-RED-S         AN201          3.0    AN : LEGGINGS   \n",
       "3         3   AN201-RED-XL         AN201          6.0    AN : LEGGINGS   \n",
       "4         4  AN201-RED-XXL         AN201          3.0    AN : LEGGINGS   \n",
       "...     ...            ...           ...          ...              ...   \n",
       "9266   9266            NaN           NaN          8.0            KURTA   \n",
       "9267   9267            NaN           NaN          8.0            KURTA   \n",
       "9268   9268            NaN           NaN          8.0            KURTA   \n",
       "9269   9269            NaN           NaN          8.0            KURTA   \n",
       "9270   9270            NaN           NaN          8.0            KURTA   \n",
       "\n",
       "     Product_Size Product_Color  \n",
       "0               L           Red  \n",
       "1               M           Red  \n",
       "2               S           Red  \n",
       "3              XL           Red  \n",
       "4             XXL           Red  \n",
       "...           ...           ...  \n",
       "9266            S          Blue  \n",
       "9267            S          Blue  \n",
       "9268            S          Blue  \n",
       "9269            S          Blue  \n",
       "9270            S          Blue  \n",
       "\n",
       "[9271 rows x 7 columns]"
      ]
     },
     "execution_count": 92,
     "metadata": {},
     "output_type": "execute_result"
    }
   ],
   "source": [
    "categorical_cols=['Product_Category','Product_Size','Product_Color']\n",
    "\n",
    "fill_categorical_missing(sales, categorical_cols)"
   ]
  },
  {
   "cell_type": "code",
   "execution_count": null,
   "metadata": {
    "executionInfo": {
     "elapsed": 53,
     "status": "ok",
     "timestamp": 1742645789637,
     "user": {
      "displayName": "CHELAKARRI ANANTHA SAI SRIKAR",
      "userId": "13136291414777484027"
     },
     "user_tz": -330
    },
    "id": "NWdBvUQKvj2y"
   },
   "outputs": [
    {
     "name": "stdout",
     "output_type": "stream",
     "text": [
      "Empty DataFrame\n",
      "Columns: [index, Product_SKU, Design_Number, Stock_Level, Product_Category, Product_Size, Product_Color]\n",
      "Index: []\n",
      "Empty DataFrame\n",
      "Columns: [index, Product_SKU, Design_Number, Stock_Level, Product_Category, Product_Size, Product_Color]\n",
      "Index: []\n"
     ]
    }
   ],
   "source": [
    "sales['Product_SKU'] = sales.groupby('Product_Category')['Product_SKU'].transform(fill_missing_mode)\n",
    "sales['Design_Number'] = sales.groupby('Product_Category')['Design_Number'].transform(fill_missing_mode)\n",
    "\n",
    "print(sales[sales['Product_Category'].notnull() & sales['Product_SKU'].isnull()])\n",
    "print(sales[sales['Product_Category'].notnull() & sales['Design_Number'].isnull()])"
   ]
  },
  {
   "cell_type": "code",
   "execution_count": 94,
   "metadata": {},
   "outputs": [],
   "source": [
    "sales['Stock_Level'] = sales['Stock_Level'].astype(int)"
   ]
  },
  {
   "cell_type": "code",
   "execution_count": 95,
   "metadata": {
    "colab": {
     "base_uri": "https://localhost:8080/"
    },
    "executionInfo": {
     "elapsed": 8,
     "status": "ok",
     "timestamp": 1742645807154,
     "user": {
      "displayName": "CHELAKARRI ANANTHA SAI SRIKAR",
      "userId": "13136291414777484027"
     },
     "user_tz": -330
    },
    "id": "-jetKnD7wi6o",
    "outputId": "9630ed79-a700-4a24-c0c4-7e3ba3ec4ce5"
   },
   "outputs": [
    {
     "name": "stdout",
     "output_type": "stream",
     "text": [
      "index               0\n",
      "Product_SKU         0\n",
      "Design_Number       0\n",
      "Stock_Level         0\n",
      "Product_Category    0\n",
      "Product_Size        0\n",
      "Product_Color       0\n",
      "dtype: int64\n"
     ]
    }
   ],
   "source": [
    "print(sales.isnull().sum())"
   ]
  },
  {
   "cell_type": "code",
   "execution_count": 96,
   "metadata": {
    "colab": {
     "base_uri": "https://localhost:8080/"
    },
    "executionInfo": {
     "elapsed": 8,
     "status": "ok",
     "timestamp": 1742645852564,
     "user": {
      "displayName": "CHELAKARRI ANANTHA SAI SRIKAR",
      "userId": "13136291414777484027"
     },
     "user_tz": -330
    },
    "id": "Kx8oUmSMyQTf",
    "outputId": "11510a7d-90b6-410f-a585-9e7daf7a01d5"
   },
   "outputs": [
    {
     "name": "stdout",
     "output_type": "stream",
     "text": [
      "0\n"
     ]
    }
   ],
   "source": [
    "print(sales.duplicated().sum())"
   ]
  },
  {
   "cell_type": "code",
   "execution_count": 97,
   "metadata": {},
   "outputs": [
    {
     "data": {
      "text/plain": [
       "index                int64\n",
       "Product_SKU         object\n",
       "Design_Number       object\n",
       "Stock_Level          int64\n",
       "Product_Category    object\n",
       "Product_Size        object\n",
       "Product_Color       object\n",
       "dtype: object"
      ]
     },
     "execution_count": 97,
     "metadata": {},
     "output_type": "execute_result"
    }
   ],
   "source": [
    "sales.dtypes"
   ]
  },
  {
   "cell_type": "markdown",
   "metadata": {
    "id": "widhbIukyZm4"
   },
   "source": [
    "**MAY-2022**"
   ]
  },
  {
   "cell_type": "code",
   "execution_count": 98,
   "metadata": {
    "executionInfo": {
     "elapsed": 8,
     "status": "ok",
     "timestamp": 1742646719236,
     "user": {
      "displayName": "CHELAKARRI ANANTHA SAI SRIKAR",
      "userId": "13136291414777484027"
     },
     "user_tz": -330
    },
    "id": "bLwi6lyCymRf"
   },
   "outputs": [],
   "source": [
    "maydata=pd.read_csv(\"data/May-2022.csv\")"
   ]
  },
  {
   "cell_type": "code",
   "execution_count": 99,
   "metadata": {
    "executionInfo": {
     "elapsed": 8,
     "status": "ok",
     "timestamp": 1742646741750,
     "user": {
      "displayName": "CHELAKARRI ANANTHA SAI SRIKAR",
      "userId": "13136291414777484027"
     },
     "user_tz": -330
    },
    "id": "LoleHF0lz-jg"
   },
   "outputs": [],
   "source": [
    "cols_to_convert = maydata.columns[5:]\n",
    "maydata[cols_to_convert] = maydata[cols_to_convert].apply(lambda x: pd.to_numeric(x, errors='coerce')).fillna(0).astype(int)"
   ]
  },
  {
   "cell_type": "code",
   "execution_count": 100,
   "metadata": {
    "colab": {
     "base_uri": "https://localhost:8080/",
     "height": 617
    },
    "executionInfo": {
     "elapsed": 22,
     "status": "ok",
     "timestamp": 1742646743350,
     "user": {
      "displayName": "CHELAKARRI ANANTHA SAI SRIKAR",
      "userId": "13136291414777484027"
     },
     "user_tz": -330
    },
    "id": "LSTtOphl1J6k",
    "outputId": "2cfafcce-a25d-4746-9849-6a9a131e198a"
   },
   "outputs": [
    {
     "data": {
      "text/plain": [
       "index                int64\n",
       "Product_SKU         object\n",
       "Product_Style_ID    object\n",
       "Product_Catalog     object\n",
       "Product_Category    object\n",
       "Product_Weight       int64\n",
       "Transfer_Price       int64\n",
       "Old_MRP              int64\n",
       "Final_Old_MRP        int64\n",
       "Ajio_MRP             int64\n",
       "Amazon_MRP           int64\n",
       "Amazon_FBA_MRP       int64\n",
       "Flipkart_MRP         int64\n",
       "Limeroad_MRP         int64\n",
       "Myntra_MRP           int64\n",
       "Paytm_MRP            int64\n",
       "Snapdeal_MRP         int64\n",
       "dtype: object"
      ]
     },
     "execution_count": 100,
     "metadata": {},
     "output_type": "execute_result"
    }
   ],
   "source": [
    "maydata.dtypes"
   ]
  },
  {
   "cell_type": "code",
   "execution_count": 101,
   "metadata": {
    "colab": {
     "base_uri": "https://localhost:8080/"
    },
    "executionInfo": {
     "elapsed": 42,
     "status": "ok",
     "timestamp": 1742646811218,
     "user": {
      "displayName": "CHELAKARRI ANANTHA SAI SRIKAR",
      "userId": "13136291414777484027"
     },
     "user_tz": -330
    },
    "id": "Ijy2CUsY1ycm",
    "outputId": "25c54d93-d59c-41bb-8e09-30a5196938d7"
   },
   "outputs": [
    {
     "name": "stdout",
     "output_type": "stream",
     "text": [
      "index               0\n",
      "Product_SKU         0\n",
      "Product_Style_ID    0\n",
      "Product_Catalog     0\n",
      "Product_Category    0\n",
      "Product_Weight      0\n",
      "Transfer_Price      0\n",
      "Old_MRP             0\n",
      "Final_Old_MRP       0\n",
      "Ajio_MRP            0\n",
      "Amazon_MRP          0\n",
      "Amazon_FBA_MRP      0\n",
      "Flipkart_MRP        0\n",
      "Limeroad_MRP        0\n",
      "Myntra_MRP          0\n",
      "Paytm_MRP           0\n",
      "Snapdeal_MRP        0\n",
      "dtype: int64\n"
     ]
    }
   ],
   "source": [
    "print(maydata.isnull().sum())"
   ]
  },
  {
   "cell_type": "code",
   "execution_count": 102,
   "metadata": {
    "colab": {
     "base_uri": "https://localhost:8080/"
    },
    "executionInfo": {
     "elapsed": 47,
     "status": "ok",
     "timestamp": 1742646839365,
     "user": {
      "displayName": "CHELAKARRI ANANTHA SAI SRIKAR",
      "userId": "13136291414777484027"
     },
     "user_tz": -330
    },
    "id": "FeQFDkIF2Ep8",
    "outputId": "8cdbc32a-8fad-4814-cca1-180da0db98f3"
   },
   "outputs": [
    {
     "name": "stdout",
     "output_type": "stream",
     "text": [
      "0\n"
     ]
    }
   ],
   "source": [
    "print(maydata.duplicated().sum())"
   ]
  },
  {
   "cell_type": "markdown",
   "metadata": {
    "id": "2_J1mvSo2X03"
   },
   "source": [
    "**INTERNATIONAL SALE REPORT (to be done)**"
   ]
  },
  {
   "cell_type": "code",
   "execution_count": 110,
   "metadata": {
    "colab": {
     "base_uri": "https://localhost:8080/",
     "height": 141
    },
    "executionInfo": {
     "elapsed": 99,
     "status": "error",
     "timestamp": 1742659995987,
     "user": {
      "displayName": "CHELAKARRI ANANTHA SAI SRIKAR",
      "userId": "13136291414777484027"
     },
     "user_tz": -330
    },
    "id": "5YzbIsGx2uBb",
    "outputId": "28c20bc7-3e32-4e57-d7d7-5b65b0f86862"
   },
   "outputs": [],
   "source": [
    "intsale=pd.read_csv(\"data/International sale Report.csv\")"
   ]
  },
  {
   "cell_type": "code",
   "execution_count": 114,
   "metadata": {
    "colab": {
     "base_uri": "https://localhost:8080/"
    },
    "executionInfo": {
     "elapsed": 41,
     "status": "ok",
     "timestamp": 1742649150156,
     "user": {
      "displayName": "CHELAKARRI ANANTHA SAI SRIKAR",
      "userId": "13136291414777484027"
     },
     "user_tz": -330
    },
    "id": "SMNUbdBL-52V",
    "outputId": "857631f5-598b-40c5-fcc9-909b1f27ef20"
   },
   "outputs": [
    {
     "name": "stdout",
     "output_type": "stream",
     "text": [
      "index                  0\n",
      "Sale_Date              1\n",
      "Sale_Month            25\n",
      "Customer_Name          0\n",
      "Product_Style          0\n",
      "Product_SKU            0\n",
      "Product_Size           0\n",
      "Quantity_Purchased     0\n",
      "Price_per_Unit         0\n",
      "Gross_Amount           0\n",
      "dtype: int64\n"
     ]
    }
   ],
   "source": [
    "print(intsale.isnull().sum())"
   ]
  },
  {
   "cell_type": "code",
   "execution_count": 107,
   "metadata": {},
   "outputs": [
    {
     "data": {
      "text/plain": [
       "index                   int64\n",
       "Sale_Date              object\n",
       "Sale_Month             object\n",
       "Customer_Name          object\n",
       "Product_Style          object\n",
       "Product_SKU            object\n",
       "Product_Size           object\n",
       "Quantity_Purchased      int64\n",
       "Price_per_Unit        float64\n",
       "Gross_Amount          float64\n",
       "dtype: object"
      ]
     },
     "execution_count": 107,
     "metadata": {},
     "output_type": "execute_result"
    }
   ],
   "source": [
    "intsale.dtypes"
   ]
  },
  {
   "cell_type": "code",
   "execution_count": 112,
   "metadata": {},
   "outputs": [
    {
     "name": "stderr",
     "output_type": "stream",
     "text": [
      "C:\\Users\\HP\\AppData\\Local\\Temp\\ipykernel_15080\\3934627601.py:5: FutureWarning: A value is trying to be set on a copy of a DataFrame or Series through chained assignment using an inplace method.\n",
      "The behavior will change in pandas 3.0. This inplace method will never work because the intermediate object on which we are setting values always behaves as a copy.\n",
      "\n",
      "For example, when doing 'df[col].method(value, inplace=True)', try using 'df.method({col: value}, inplace=True)' or df[col] = df[col].method(value) instead, to perform the operation inplace on the original object.\n",
      "\n",
      "\n",
      "  df[column].fillna(df[column].median(), inplace=True)\n",
      "C:\\Users\\HP\\AppData\\Local\\Temp\\ipykernel_15080\\3934627601.py:5: FutureWarning: A value is trying to be set on a copy of a DataFrame or Series through chained assignment using an inplace method.\n",
      "The behavior will change in pandas 3.0. This inplace method will never work because the intermediate object on which we are setting values always behaves as a copy.\n",
      "\n",
      "For example, when doing 'df[col].method(value, inplace=True)', try using 'df.method({col: value}, inplace=True)' or df[col] = df[col].method(value) instead, to perform the operation inplace on the original object.\n",
      "\n",
      "\n",
      "  df[column].fillna(df[column].median(), inplace=True)\n",
      "C:\\Users\\HP\\AppData\\Local\\Temp\\ipykernel_15080\\3934627601.py:5: FutureWarning: A value is trying to be set on a copy of a DataFrame or Series through chained assignment using an inplace method.\n",
      "The behavior will change in pandas 3.0. This inplace method will never work because the intermediate object on which we are setting values always behaves as a copy.\n",
      "\n",
      "For example, when doing 'df[col].method(value, inplace=True)', try using 'df.method({col: value}, inplace=True)' or df[col] = df[col].method(value) instead, to perform the operation inplace on the original object.\n",
      "\n",
      "\n",
      "  df[column].fillna(df[column].median(), inplace=True)\n"
     ]
    }
   ],
   "source": [
    "intsale['Quantity_Purchased'] = pd.to_numeric(intsale['Quantity_Purchased'], errors='coerce')\n",
    "\n",
    "intsale['Price_per_Unit'] = pd.to_numeric(intsale['Price_per_Unit'].str.replace(',', ''), errors='coerce')\n",
    "intsale['Gross_Amount'] = pd.to_numeric(intsale['Gross_Amount'].str.replace(',', ''), errors='coerce')\n",
    "\n",
    "fill_na_based_on_skew(intsale, 'Quantity_Purchased')\n",
    "fill_na_based_on_skew(intsale, 'Price_per_Unit')\n",
    "fill_na_based_on_skew(intsale, 'Gross_Amount')\n",
    "\n",
    "intsale['Quantity_Purchased'] = intsale['Quantity_Purchased'].astype(int)\n",
    "\n"
   ]
  },
  {
   "cell_type": "code",
   "execution_count": 113,
   "metadata": {},
   "outputs": [
    {
     "name": "stderr",
     "output_type": "stream",
     "text": [
      "C:\\Users\\HP\\AppData\\Local\\Temp\\ipykernel_15080\\3297095365.py:9: FutureWarning: A value is trying to be set on a copy of a DataFrame or Series through chained assignment using an inplace method.\n",
      "The behavior will change in pandas 3.0. This inplace method will never work because the intermediate object on which we are setting values always behaves as a copy.\n",
      "\n",
      "For example, when doing 'df[col].method(value, inplace=True)', try using 'df.method({col: value}, inplace=True)' or df[col] = df[col].method(value) instead, to perform the operation inplace on the original object.\n",
      "\n",
      "\n",
      "  df[col].fillna(df[col].mode()[0], inplace=True)\n"
     ]
    },
    {
     "data": {
      "text/html": [
       "<div>\n",
       "<style scoped>\n",
       "    .dataframe tbody tr th:only-of-type {\n",
       "        vertical-align: middle;\n",
       "    }\n",
       "\n",
       "    .dataframe tbody tr th {\n",
       "        vertical-align: top;\n",
       "    }\n",
       "\n",
       "    .dataframe thead th {\n",
       "        text-align: right;\n",
       "    }\n",
       "</style>\n",
       "<table border=\"1\" class=\"dataframe\">\n",
       "  <thead>\n",
       "    <tr style=\"text-align: right;\">\n",
       "      <th></th>\n",
       "      <th>index</th>\n",
       "      <th>Sale_Date</th>\n",
       "      <th>Sale_Month</th>\n",
       "      <th>Customer_Name</th>\n",
       "      <th>Product_Style</th>\n",
       "      <th>Product_SKU</th>\n",
       "      <th>Product_Size</th>\n",
       "      <th>Quantity_Purchased</th>\n",
       "      <th>Price_per_Unit</th>\n",
       "      <th>Gross_Amount</th>\n",
       "    </tr>\n",
       "  </thead>\n",
       "  <tbody>\n",
       "    <tr>\n",
       "      <th>0</th>\n",
       "      <td>0</td>\n",
       "      <td>6/5/2021</td>\n",
       "      <td>21-Jun</td>\n",
       "      <td>REVATHY LOGANATHAN</td>\n",
       "      <td>MEN5004</td>\n",
       "      <td>MEN5004-KR-L</td>\n",
       "      <td>L</td>\n",
       "      <td>1</td>\n",
       "      <td>616.56</td>\n",
       "      <td>617.0</td>\n",
       "    </tr>\n",
       "    <tr>\n",
       "      <th>1</th>\n",
       "      <td>1</td>\n",
       "      <td>6/5/2021</td>\n",
       "      <td>21-Jun</td>\n",
       "      <td>REVATHY LOGANATHAN</td>\n",
       "      <td>MEN5004</td>\n",
       "      <td>MEN5004-KR-XL</td>\n",
       "      <td>XL</td>\n",
       "      <td>1</td>\n",
       "      <td>616.56</td>\n",
       "      <td>617.0</td>\n",
       "    </tr>\n",
       "    <tr>\n",
       "      <th>2</th>\n",
       "      <td>2</td>\n",
       "      <td>6/5/2021</td>\n",
       "      <td>21-Jun</td>\n",
       "      <td>REVATHY LOGANATHAN</td>\n",
       "      <td>MEN5004</td>\n",
       "      <td>MEN5004-KR-XXL</td>\n",
       "      <td>XXL</td>\n",
       "      <td>1</td>\n",
       "      <td>616.56</td>\n",
       "      <td>617.0</td>\n",
       "    </tr>\n",
       "    <tr>\n",
       "      <th>3</th>\n",
       "      <td>3</td>\n",
       "      <td>6/5/2021</td>\n",
       "      <td>21-Jun</td>\n",
       "      <td>REVATHY LOGANATHAN</td>\n",
       "      <td>MEN5009</td>\n",
       "      <td>MEN5009-KR-L</td>\n",
       "      <td>L</td>\n",
       "      <td>1</td>\n",
       "      <td>616.56</td>\n",
       "      <td>617.0</td>\n",
       "    </tr>\n",
       "    <tr>\n",
       "      <th>4</th>\n",
       "      <td>4</td>\n",
       "      <td>6/5/2021</td>\n",
       "      <td>21-Jun</td>\n",
       "      <td>REVATHY LOGANATHAN</td>\n",
       "      <td>MEN5011</td>\n",
       "      <td>MEN5011-KR-L</td>\n",
       "      <td>L</td>\n",
       "      <td>1</td>\n",
       "      <td>616.56</td>\n",
       "      <td>617.0</td>\n",
       "    </tr>\n",
       "    <tr>\n",
       "      <th>...</th>\n",
       "      <td>...</td>\n",
       "      <td>...</td>\n",
       "      <td>...</td>\n",
       "      <td>...</td>\n",
       "      <td>...</td>\n",
       "      <td>...</td>\n",
       "      <td>...</td>\n",
       "      <td>...</td>\n",
       "      <td>...</td>\n",
       "      <td>...</td>\n",
       "    </tr>\n",
       "    <tr>\n",
       "      <th>37427</th>\n",
       "      <td>37427</td>\n",
       "      <td>AVIN</td>\n",
       "      <td>3/31/2022</td>\n",
       "      <td>22-Mar</td>\n",
       "      <td>PJNE3423</td>\n",
       "      <td>PJNE3423-KR-4XL</td>\n",
       "      <td>1</td>\n",
       "      <td>537</td>\n",
       "      <td>538.00</td>\n",
       "      <td>4.0</td>\n",
       "    </tr>\n",
       "    <tr>\n",
       "      <th>37428</th>\n",
       "      <td>37428</td>\n",
       "      <td>AVIN</td>\n",
       "      <td>3/31/2022</td>\n",
       "      <td>22-Mar</td>\n",
       "      <td>PJNE3404</td>\n",
       "      <td>PJNE3404-KR-4XL</td>\n",
       "      <td>1</td>\n",
       "      <td>500</td>\n",
       "      <td>500.00</td>\n",
       "      <td>5.0</td>\n",
       "    </tr>\n",
       "    <tr>\n",
       "      <th>37429</th>\n",
       "      <td>37429</td>\n",
       "      <td>AVIN</td>\n",
       "      <td>3/31/2022</td>\n",
       "      <td>22-Mar</td>\n",
       "      <td>PJNE3423</td>\n",
       "      <td>PJNE3423-KR-4XL</td>\n",
       "      <td>1</td>\n",
       "      <td>537</td>\n",
       "      <td>538.00</td>\n",
       "      <td>4.0</td>\n",
       "    </tr>\n",
       "    <tr>\n",
       "      <th>37430</th>\n",
       "      <td>37430</td>\n",
       "      <td>AVIN</td>\n",
       "      <td>3/31/2022</td>\n",
       "      <td>22-Mar</td>\n",
       "      <td>SET290</td>\n",
       "      <td>SET290-KR-DPT-M</td>\n",
       "      <td>1</td>\n",
       "      <td>812</td>\n",
       "      <td>812.00</td>\n",
       "      <td>7.0</td>\n",
       "    </tr>\n",
       "    <tr>\n",
       "      <th>37431</th>\n",
       "      <td>37431</td>\n",
       "      <td>AVIN</td>\n",
       "      <td>3/31/2022</td>\n",
       "      <td>22-Mar</td>\n",
       "      <td>SHIPPING</td>\n",
       "      <td>SHIPPING</td>\n",
       "      <td>1</td>\n",
       "      <td>3666</td>\n",
       "      <td>3666.00</td>\n",
       "      <td>0.0</td>\n",
       "    </tr>\n",
       "  </tbody>\n",
       "</table>\n",
       "<p>37432 rows × 10 columns</p>\n",
       "</div>"
      ],
      "text/plain": [
       "       index Sale_Date Sale_Month       Customer_Name Product_Style  \\\n",
       "0          0  6/5/2021     21-Jun  REVATHY LOGANATHAN       MEN5004   \n",
       "1          1  6/5/2021     21-Jun  REVATHY LOGANATHAN       MEN5004   \n",
       "2          2  6/5/2021     21-Jun  REVATHY LOGANATHAN       MEN5004   \n",
       "3          3  6/5/2021     21-Jun  REVATHY LOGANATHAN       MEN5009   \n",
       "4          4  6/5/2021     21-Jun  REVATHY LOGANATHAN       MEN5011   \n",
       "...      ...       ...        ...                 ...           ...   \n",
       "37427  37427    AVIN    3/31/2022              22-Mar      PJNE3423   \n",
       "37428  37428    AVIN    3/31/2022              22-Mar      PJNE3404   \n",
       "37429  37429    AVIN    3/31/2022              22-Mar      PJNE3423   \n",
       "37430  37430    AVIN    3/31/2022              22-Mar        SET290   \n",
       "37431  37431    AVIN    3/31/2022              22-Mar      SHIPPING   \n",
       "\n",
       "           Product_SKU Product_Size  Quantity_Purchased  Price_per_Unit  \\\n",
       "0         MEN5004-KR-L            L                   1          616.56   \n",
       "1        MEN5004-KR-XL           XL                   1          616.56   \n",
       "2       MEN5004-KR-XXL          XXL                   1          616.56   \n",
       "3         MEN5009-KR-L            L                   1          616.56   \n",
       "4         MEN5011-KR-L            L                   1          616.56   \n",
       "...                ...          ...                 ...             ...   \n",
       "37427  PJNE3423-KR-4XL            1                 537          538.00   \n",
       "37428  PJNE3404-KR-4XL            1                 500          500.00   \n",
       "37429  PJNE3423-KR-4XL            1                 537          538.00   \n",
       "37430  SET290-KR-DPT-M            1                 812          812.00   \n",
       "37431         SHIPPING            1                3666         3666.00   \n",
       "\n",
       "       Gross_Amount  \n",
       "0             617.0  \n",
       "1             617.0  \n",
       "2             617.0  \n",
       "3             617.0  \n",
       "4             617.0  \n",
       "...             ...  \n",
       "37427           4.0  \n",
       "37428           5.0  \n",
       "37429           4.0  \n",
       "37430           7.0  \n",
       "37431           0.0  \n",
       "\n",
       "[37432 rows x 10 columns]"
      ]
     },
     "execution_count": 113,
     "metadata": {},
     "output_type": "execute_result"
    }
   ],
   "source": [
    "intsale['Product_SKU'] = fill_missing_mode(intsale['Product_SKU'])\n",
    "\n",
    "categorical_columns = ['Customer_Name', 'Product_Style', 'Product_Size']\n",
    "fill_categorical_missing(intsale,categorical_columns)\n"
   ]
  },
  {
   "cell_type": "code",
   "execution_count": 115,
   "metadata": {},
   "outputs": [
    {
     "name": "stdout",
     "output_type": "stream",
     "text": [
      "Date_Format\n",
      "UNKNOWN FORMAT    18796\n",
      "M/D/YYYY          18635\n",
      "MISSING               1\n",
      "Name: count, dtype: int64\n"
     ]
    }
   ],
   "source": [
    "intsale['Date_Format'] = intsale['Sale_Date'].apply(identify_date_format)\n",
    "\n",
    "format_counts = intsale['Date_Format'].value_counts()\n",
    "print(format_counts)"
   ]
  }
 ],
 "metadata": {
  "colab": {
   "authorship_tag": "ABX9TyPZtnzEpPqdXLI8qDIPhVNQ",
   "provenance": []
  },
  "kernelspec": {
   "display_name": ".venv",
   "language": "python",
   "name": "python3"
  },
  "language_info": {
   "codemirror_mode": {
    "name": "ipython",
    "version": 3
   },
   "file_extension": ".py",
   "mimetype": "text/x-python",
   "name": "python",
   "nbconvert_exporter": "python",
   "pygments_lexer": "ipython3",
   "version": "3.11.9"
  }
 },
 "nbformat": 4,
 "nbformat_minor": 0
}
