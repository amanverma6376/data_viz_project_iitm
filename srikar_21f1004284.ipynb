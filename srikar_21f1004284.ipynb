{
 "cells": [
  {
   "cell_type": "code",
   "execution_count": null,
   "metadata": {
    "executionInfo": {
     "elapsed": 1098,
     "status": "ok",
     "timestamp": 1742641738097,
     "user": {
      "displayName": "CHELAKARRI ANANTHA SAI SRIKAR",
      "userId": "13136291414777484027"
     },
     "user_tz": -330
    },
    "id": "4hkrAAaRmPrm"
   },
   "outputs": [],
   "source": [
    "import pandas as pd\n",
    "amazon=pd.read_csv(\"data/Amazon Sale Report.csv\")"
   ]
  },
  {
   "cell_type": "code",
   "execution_count": 20,
   "metadata": {
    "colab": {
     "base_uri": "https://localhost:8080/",
     "height": 742
    },
    "executionInfo": {
     "elapsed": 72,
     "status": "ok",
     "timestamp": 1742640202661,
     "user": {
      "displayName": "CHELAKARRI ANANTHA SAI SRIKAR",
      "userId": "13136291414777484027"
     },
     "user_tz": -330
    },
    "id": "IQ_k_ky6o-Sq",
    "outputId": "7642416a-9955-4fc7-8979-bce02d9ece02"
   },
   "outputs": [
    {
     "data": {
      "text/html": [
       "<div>\n",
       "<style scoped>\n",
       "    .dataframe tbody tr th:only-of-type {\n",
       "        vertical-align: middle;\n",
       "    }\n",
       "\n",
       "    .dataframe tbody tr th {\n",
       "        vertical-align: top;\n",
       "    }\n",
       "\n",
       "    .dataframe thead th {\n",
       "        text-align: right;\n",
       "    }\n",
       "</style>\n",
       "<table border=\"1\" class=\"dataframe\">\n",
       "  <thead>\n",
       "    <tr style=\"text-align: right;\">\n",
       "      <th></th>\n",
       "      <th>0</th>\n",
       "    </tr>\n",
       "  </thead>\n",
       "  <tbody>\n",
       "    <tr>\n",
       "      <th>index</th>\n",
       "      <td>int64</td>\n",
       "    </tr>\n",
       "    <tr>\n",
       "      <th>Order_ID</th>\n",
       "      <td>object</td>\n",
       "    </tr>\n",
       "    <tr>\n",
       "      <th>Order_Date</th>\n",
       "      <td>object</td>\n",
       "    </tr>\n",
       "    <tr>\n",
       "      <th>Order_Status</th>\n",
       "      <td>object</td>\n",
       "    </tr>\n",
       "    <tr>\n",
       "      <th>Fulfillment_Type</th>\n",
       "      <td>object</td>\n",
       "    </tr>\n",
       "    <tr>\n",
       "      <th>Sales_Channel</th>\n",
       "      <td>object</td>\n",
       "    </tr>\n",
       "    <tr>\n",
       "      <th>Shipping_Service_Level</th>\n",
       "      <td>object</td>\n",
       "    </tr>\n",
       "    <tr>\n",
       "      <th>Product_Style</th>\n",
       "      <td>object</td>\n",
       "    </tr>\n",
       "    <tr>\n",
       "      <th>Product_SKU</th>\n",
       "      <td>object</td>\n",
       "    </tr>\n",
       "    <tr>\n",
       "      <th>Product_Category</th>\n",
       "      <td>object</td>\n",
       "    </tr>\n",
       "    <tr>\n",
       "      <th>Product_Size</th>\n",
       "      <td>object</td>\n",
       "    </tr>\n",
       "    <tr>\n",
       "      <th>Amazon_Standard_ID</th>\n",
       "      <td>object</td>\n",
       "    </tr>\n",
       "    <tr>\n",
       "      <th>Courier_Status</th>\n",
       "      <td>object</td>\n",
       "    </tr>\n",
       "    <tr>\n",
       "      <th>Quantity</th>\n",
       "      <td>int64</td>\n",
       "    </tr>\n",
       "    <tr>\n",
       "      <th>Currency</th>\n",
       "      <td>object</td>\n",
       "    </tr>\n",
       "    <tr>\n",
       "      <th>Sale_Amount</th>\n",
       "      <td>float64</td>\n",
       "    </tr>\n",
       "    <tr>\n",
       "      <th>Shipping_City</th>\n",
       "      <td>object</td>\n",
       "    </tr>\n",
       "    <tr>\n",
       "      <th>Shipping_State</th>\n",
       "      <td>object</td>\n",
       "    </tr>\n",
       "    <tr>\n",
       "      <th>Shipping_Postal_Code</th>\n",
       "      <td>float64</td>\n",
       "    </tr>\n",
       "    <tr>\n",
       "      <th>Shipping_Country</th>\n",
       "      <td>object</td>\n",
       "    </tr>\n",
       "    <tr>\n",
       "      <th>Business_to_Business</th>\n",
       "      <td>bool</td>\n",
       "    </tr>\n",
       "  </tbody>\n",
       "</table>\n",
       "</div><br><label><b>dtype:</b> object</label>"
      ],
      "text/plain": [
       "index                       int64\n",
       "Order_ID                   object\n",
       "Order_Date                 object\n",
       "Order_Status               object\n",
       "Fulfillment_Type           object\n",
       "Sales_Channel              object\n",
       "Shipping_Service_Level     object\n",
       "Product_Style              object\n",
       "Product_SKU                object\n",
       "Product_Category           object\n",
       "Product_Size               object\n",
       "Amazon_Standard_ID         object\n",
       "Courier_Status             object\n",
       "Quantity                    int64\n",
       "Currency                   object\n",
       "Sale_Amount               float64\n",
       "Shipping_City              object\n",
       "Shipping_State             object\n",
       "Shipping_Postal_Code      float64\n",
       "Shipping_Country           object\n",
       "Business_to_Business         bool\n",
       "dtype: object"
      ]
     },
     "execution_count": 20,
     "metadata": {},
     "output_type": "execute_result"
    }
   ],
   "source": [
    "amazon.dtypes"
   ]
  },
  {
   "cell_type": "code",
   "execution_count": 32,
   "metadata": {
    "colab": {
     "base_uri": "https://localhost:8080/"
    },
    "executionInfo": {
     "elapsed": 196,
     "status": "ok",
     "timestamp": 1742641547385,
     "user": {
      "displayName": "CHELAKARRI ANANTHA SAI SRIKAR",
      "userId": "13136291414777484027"
     },
     "user_tz": -330
    },
    "id": "e4lhrDLK7GPq",
    "outputId": "9ea8b6e3-66f4-42b4-adc1-f39c279e3b8b"
   },
   "outputs": [
    {
     "name": "stdout",
     "output_type": "stream",
     "text": [
      "index                         0\n",
      "Order_ID                      0\n",
      "Order_Date                    0\n",
      "Order_Status                  0\n",
      "Fulfillment_Type              0\n",
      "Sales_Channel                 0\n",
      "Shipping_Service_Level        0\n",
      "Product_Style                 0\n",
      "Product_SKU                   0\n",
      "Product_Category              0\n",
      "Product_Size                  0\n",
      "Amazon_Standard_ID            0\n",
      "Courier_Status             6872\n",
      "Quantity                      0\n",
      "Currency                   7795\n",
      "Sale_Amount                7795\n",
      "Shipping_City                33\n",
      "Shipping_State               33\n",
      "Shipping_Postal_Code         33\n",
      "Shipping_Country             33\n",
      "Promotion_IDs             49153\n",
      "Business_to_Business          0\n",
      "Fulfilled_By              89698\n",
      "dtype: int64\n"
     ]
    }
   ],
   "source": [
    "print(amazon.isnull().sum())"
   ]
  },
  {
   "cell_type": "markdown",
   "metadata": {
    "id": "DigVSficaU6B"
   },
   "source": [
    "Finding Percentage of missing values in each column"
   ]
  },
  {
   "cell_type": "code",
   "execution_count": 16,
   "metadata": {
    "colab": {
     "base_uri": "https://localhost:8080/"
    },
    "executionInfo": {
     "elapsed": 22,
     "status": "ok",
     "timestamp": 1742639671552,
     "user": {
      "displayName": "CHELAKARRI ANANTHA SAI SRIKAR",
      "userId": "13136291414777484027"
     },
     "user_tz": -330
    },
    "id": "l9jiFKqCaQHJ",
    "outputId": "5f694ebb-7229-42f5-823f-c73f3d33fcba"
   },
   "outputs": [
    {
     "name": "stdout",
     "output_type": "stream",
     "text": [
      "index                      0.000000\n",
      "Order_ID                   0.000000\n",
      "Order_Date                 0.000000\n",
      "Order_Status               0.000000\n",
      "Fulfillment_Type           0.000000\n",
      "Sales_Channel              0.000000\n",
      "Shipping_Service_Level     0.000000\n",
      "Product_Style              0.000000\n",
      "Product_SKU                0.000000\n",
      "Product_Category           0.000000\n",
      "Product_Size               0.000000\n",
      "Amazon_Standard_ID         0.000000\n",
      "Courier_Status             5.328164\n",
      "Quantity                   0.000000\n",
      "Currency                   6.043807\n",
      "Sale_Amount                6.043807\n",
      "Shipping_City              0.025586\n",
      "Shipping_State             0.025586\n",
      "Shipping_Postal_Code       0.025586\n",
      "Shipping_Country           0.025586\n",
      "Promotion_IDs             38.110487\n",
      "Business_to_Business       0.000000\n",
      "Fulfilled_By              69.546811\n",
      "dtype: float64\n"
     ]
    }
   ],
   "source": [
    "missing_percentage = amazon.isnull().sum() / len(amazon) * 100\n",
    "print(missing_percentage)"
   ]
  },
  {
   "cell_type": "markdown",
   "metadata": {
    "id": "3Ml5xqjZaDPv"
   },
   "source": [
    "Dropping Columns with large percentage of missing values"
   ]
  },
  {
   "cell_type": "code",
   "execution_count": 43,
   "metadata": {
    "executionInfo": {
     "elapsed": 3,
     "status": "ok",
     "timestamp": 1742641745571,
     "user": {
      "displayName": "CHELAKARRI ANANTHA SAI SRIKAR",
      "userId": "13136291414777484027"
     },
     "user_tz": -330
    },
    "id": "eVZkqBXlSovL"
   },
   "outputs": [],
   "source": [
    "amazon.drop('Fulfilled_By', axis=1, inplace=True)"
   ]
  },
  {
   "cell_type": "code",
   "execution_count": 44,
   "metadata": {
    "executionInfo": {
     "elapsed": 69,
     "status": "ok",
     "timestamp": 1742641746759,
     "user": {
      "displayName": "CHELAKARRI ANANTHA SAI SRIKAR",
      "userId": "13136291414777484027"
     },
     "user_tz": -330
    },
    "id": "c4al5XEYZozp"
   },
   "outputs": [],
   "source": [
    "amazon.drop('Promotion_IDs', axis=1, inplace=True)"
   ]
  },
  {
   "cell_type": "markdown",
   "metadata": {
    "id": "-JAxk5znbJXp"
   },
   "source": [
    "Imputation of missing values for remaing columns (int, float)"
   ]
  },
  {
   "cell_type": "code",
   "execution_count": 45,
   "metadata": {
    "colab": {
     "base_uri": "https://localhost:8080/"
    },
    "executionInfo": {
     "elapsed": 14,
     "status": "ok",
     "timestamp": 1742641748797,
     "user": {
      "displayName": "CHELAKARRI ANANTHA SAI SRIKAR",
      "userId": "13136291414777484027"
     },
     "user_tz": -330
    },
    "id": "OprQR7qXaOgP",
    "outputId": "ba3c760f-0ddd-429e-9dc9-2978d8f80722"
   },
   "outputs": [
    {
     "name": "stderr",
     "output_type": "stream",
     "text": [
      "<ipython-input-45-231244ab1593>:2: FutureWarning: A value is trying to be set on a copy of a DataFrame or Series through chained assignment using an inplace method.\n",
      "The behavior will change in pandas 3.0. This inplace method will never work because the intermediate object on which we are setting values always behaves as a copy.\n",
      "\n",
      "For example, when doing 'df[col].method(value, inplace=True)', try using 'df.method({col: value}, inplace=True)' or df[col] = df[col].method(value) instead, to perform the operation inplace on the original object.\n",
      "\n",
      "\n",
      "  amazon['Sale_Amount'].fillna(amazon['Sale_Amount'].median(), inplace=True)\n"
     ]
    }
   ],
   "source": [
    "if amazon['Sale_Amount'].skew() > 0.5 or amazon['Sale_Amount'].skew() < -0.5:\n",
    "    amazon['Sale_Amount'].fillna(amazon['Sale_Amount'].median(), inplace=True)\n",
    "else:\n",
    "    amazon['Sale_Amount'].fillna(amazon['Sale_Amount'].mean(), inplace=True)\n"
   ]
  },
  {
   "cell_type": "markdown",
   "metadata": {
    "id": "H_fxTkFKfkw5"
   },
   "source": [
    "Imputation of missing values for Categorical Columns"
   ]
  },
  {
   "cell_type": "code",
   "execution_count": 46,
   "metadata": {
    "colab": {
     "base_uri": "https://localhost:8080/"
    },
    "executionInfo": {
     "elapsed": 7,
     "status": "ok",
     "timestamp": 1742641752567,
     "user": {
      "displayName": "CHELAKARRI ANANTHA SAI SRIKAR",
      "userId": "13136291414777484027"
     },
     "user_tz": -330
    },
    "id": "XXl-6tz4fyt9",
    "outputId": "24aa6426-c7fe-47c5-d514-5683bcd90866"
   },
   "outputs": [
    {
     "name": "stderr",
     "output_type": "stream",
     "text": [
      "<ipython-input-46-57b9ac5a1b6a>:1: FutureWarning: A value is trying to be set on a copy of a DataFrame or Series through chained assignment using an inplace method.\n",
      "The behavior will change in pandas 3.0. This inplace method will never work because the intermediate object on which we are setting values always behaves as a copy.\n",
      "\n",
      "For example, when doing 'df[col].method(value, inplace=True)', try using 'df.method({col: value}, inplace=True)' or df[col] = df[col].method(value) instead, to perform the operation inplace on the original object.\n",
      "\n",
      "\n",
      "  amazon['Courier_Status'].fillna(amazon['Courier_Status'].mode()[0], inplace=True)\n"
     ]
    }
   ],
   "source": [
    "amazon['Courier_Status'].fillna(amazon['Courier_Status'].mode()[0], inplace=True)"
   ]
  },
  {
   "cell_type": "code",
   "execution_count": 47,
   "metadata": {
    "colab": {
     "base_uri": "https://localhost:8080/"
    },
    "executionInfo": {
     "elapsed": 129,
     "status": "ok",
     "timestamp": 1742641757253,
     "user": {
      "displayName": "CHELAKARRI ANANTHA SAI SRIKAR",
      "userId": "13136291414777484027"
     },
     "user_tz": -330
    },
    "id": "wAeQasJSgLy8",
    "outputId": "80edde94-df0d-4b6a-9a99-c95df23be4ed"
   },
   "outputs": [
    {
     "name": "stderr",
     "output_type": "stream",
     "text": [
      "<ipython-input-47-e597fa444b36>:1: FutureWarning: A value is trying to be set on a copy of a DataFrame or Series through chained assignment using an inplace method.\n",
      "The behavior will change in pandas 3.0. This inplace method will never work because the intermediate object on which we are setting values always behaves as a copy.\n",
      "\n",
      "For example, when doing 'df[col].method(value, inplace=True)', try using 'df.method({col: value}, inplace=True)' or df[col] = df[col].method(value) instead, to perform the operation inplace on the original object.\n",
      "\n",
      "\n",
      "  amazon['Currency'].fillna(amazon['Currency'].mode()[0], inplace=True)\n",
      "<ipython-input-47-e597fa444b36>:2: FutureWarning: A value is trying to be set on a copy of a DataFrame or Series through chained assignment using an inplace method.\n",
      "The behavior will change in pandas 3.0. This inplace method will never work because the intermediate object on which we are setting values always behaves as a copy.\n",
      "\n",
      "For example, when doing 'df[col].method(value, inplace=True)', try using 'df.method({col: value}, inplace=True)' or df[col] = df[col].method(value) instead, to perform the operation inplace on the original object.\n",
      "\n",
      "\n",
      "  amazon['Shipping_City'].fillna(amazon['Shipping_City'].mode()[0], inplace=True)\n",
      "<ipython-input-47-e597fa444b36>:3: FutureWarning: A value is trying to be set on a copy of a DataFrame or Series through chained assignment using an inplace method.\n",
      "The behavior will change in pandas 3.0. This inplace method will never work because the intermediate object on which we are setting values always behaves as a copy.\n",
      "\n",
      "For example, when doing 'df[col].method(value, inplace=True)', try using 'df.method({col: value}, inplace=True)' or df[col] = df[col].method(value) instead, to perform the operation inplace on the original object.\n",
      "\n",
      "\n",
      "  amazon['Shipping_State'].fillna(amazon['Shipping_State'].mode()[0], inplace=True)\n",
      "<ipython-input-47-e597fa444b36>:4: FutureWarning: A value is trying to be set on a copy of a DataFrame or Series through chained assignment using an inplace method.\n",
      "The behavior will change in pandas 3.0. This inplace method will never work because the intermediate object on which we are setting values always behaves as a copy.\n",
      "\n",
      "For example, when doing 'df[col].method(value, inplace=True)', try using 'df.method({col: value}, inplace=True)' or df[col] = df[col].method(value) instead, to perform the operation inplace on the original object.\n",
      "\n",
      "\n",
      "  amazon['Shipping_Country'].fillna(amazon['Shipping_Country'].mode()[0], inplace=True)\n"
     ]
    }
   ],
   "source": [
    "amazon['Currency'].fillna(amazon['Currency'].mode()[0], inplace=True)\n",
    "amazon['Shipping_City'].fillna(amazon['Shipping_City'].mode()[0], inplace=True)\n",
    "amazon['Shipping_State'].fillna(amazon['Shipping_State'].mode()[0], inplace=True)\n",
    "amazon['Shipping_Country'].fillna(amazon['Shipping_Country'].mode()[0], inplace=True)"
   ]
  },
  {
   "cell_type": "markdown",
   "metadata": {
    "id": "l7hT4Sfdidoh"
   },
   "source": [
    "Imputation for \"Shipping_Postal_Code\""
   ]
  },
  {
   "cell_type": "code",
   "execution_count": 48,
   "metadata": {
    "colab": {
     "base_uri": "https://localhost:8080/"
    },
    "executionInfo": {
     "elapsed": 4697,
     "status": "ok",
     "timestamp": 1742641765410,
     "user": {
      "displayName": "CHELAKARRI ANANTHA SAI SRIKAR",
      "userId": "13136291414777484027"
     },
     "user_tz": -330
    },
    "id": "pnHhWfA2ik06",
    "outputId": "3385f285-941d-4f28-afb4-c1f6b656da7b"
   },
   "outputs": [
    {
     "name": "stdout",
     "output_type": "stream",
     "text": [
      "Empty DataFrame\n",
      "Columns: [index, Order_ID, Order_Date, Order_Status, Fulfillment_Type, Sales_Channel, Shipping_Service_Level, Product_Style, Product_SKU, Product_Category, Product_Size, Amazon_Standard_ID, Courier_Status, Quantity, Currency, Sale_Amount, Shipping_City, Shipping_State, Shipping_Postal_Code, Shipping_Country, Business_to_Business]\n",
      "Index: []\n",
      "\n",
      "[0 rows x 21 columns]\n"
     ]
    }
   ],
   "source": [
    "amazon['Shipping_Postal_Code'] = amazon['Shipping_Postal_Code'].astype(str)\n",
    "amazon['Shipping_Postal_Code'] = amazon.groupby(['Shipping_City', 'Shipping_State'])['Shipping_Postal_Code'].transform(lambda x: x.fillna(x.mode()[0] if not x.mode().empty else 'Unknown'))\n",
    "#Checking if everything is correctly imputed\n",
    "print(amazon[amazon['Shipping_City'].notnull() & amazon['Shipping_State'].notnull() & amazon['Shipping_Postal_Code'].isnull()])"
   ]
  },
  {
   "cell_type": "code",
   "execution_count": 49,
   "metadata": {
    "colab": {
     "base_uri": "https://localhost:8080/"
    },
    "executionInfo": {
     "elapsed": 181,
     "status": "ok",
     "timestamp": 1742641768373,
     "user": {
      "displayName": "CHELAKARRI ANANTHA SAI SRIKAR",
      "userId": "13136291414777484027"
     },
     "user_tz": -330
    },
    "id": "CchdqRQEg_it",
    "outputId": "e7176daa-4ce8-4146-c7f5-c72a82459b5e"
   },
   "outputs": [
    {
     "name": "stdout",
     "output_type": "stream",
     "text": [
      "index                     0\n",
      "Order_ID                  0\n",
      "Order_Date                0\n",
      "Order_Status              0\n",
      "Fulfillment_Type          0\n",
      "Sales_Channel             0\n",
      "Shipping_Service_Level    0\n",
      "Product_Style             0\n",
      "Product_SKU               0\n",
      "Product_Category          0\n",
      "Product_Size              0\n",
      "Amazon_Standard_ID        0\n",
      "Courier_Status            0\n",
      "Quantity                  0\n",
      "Currency                  0\n",
      "Sale_Amount               0\n",
      "Shipping_City             0\n",
      "Shipping_State            0\n",
      "Shipping_Postal_Code      0\n",
      "Shipping_Country          0\n",
      "Business_to_Business      0\n",
      "dtype: int64\n"
     ]
    }
   ],
   "source": [
    "print(amazon.isnull().sum())"
   ]
  },
  {
   "cell_type": "code",
   "execution_count": 50,
   "metadata": {
    "colab": {
     "base_uri": "https://localhost:8080/"
    },
    "executionInfo": {
     "elapsed": 310,
     "status": "ok",
     "timestamp": 1742641888898,
     "user": {
      "displayName": "CHELAKARRI ANANTHA SAI SRIKAR",
      "userId": "13136291414777484027"
     },
     "user_tz": -330
    },
    "id": "vQMgg2T7jNiy",
    "outputId": "99373e89-b2a7-4a85-84ca-08dc85bd3431"
   },
   "outputs": [
    {
     "name": "stdout",
     "output_type": "stream",
     "text": [
      "0\n"
     ]
    }
   ],
   "source": [
    "print(amazon.duplicated().sum())"
   ]
  },
  {
   "cell_type": "code",
   "execution_count": 52,
   "metadata": {
    "executionInfo": {
     "elapsed": 55,
     "status": "ok",
     "timestamp": 1742642221160,
     "user": {
      "displayName": "CHELAKARRI ANANTHA SAI SRIKAR",
      "userId": "13136291414777484027"
     },
     "user_tz": -330
    },
    "id": "4gCIbpFHjQma"
   },
   "outputs": [],
   "source": [
    "amazon['Order_Date'] = pd.to_datetime(amazon['Order_Date'], errors='coerce')"
   ]
  },
  {
   "cell_type": "code",
   "execution_count": 53,
   "metadata": {
    "colab": {
     "base_uri": "https://localhost:8080/",
     "height": 742
    },
    "executionInfo": {
     "elapsed": 122,
     "status": "ok",
     "timestamp": 1742642230503,
     "user": {
      "displayName": "CHELAKARRI ANANTHA SAI SRIKAR",
      "userId": "13136291414777484027"
     },
     "user_tz": -330
    },
    "id": "nUyo3RXQkemK",
    "outputId": "6e00311f-6ec8-4b9f-a604-cfb84c156aeb"
   },
   "outputs": [
    {
     "data": {
      "text/html": [
       "<div>\n",
       "<style scoped>\n",
       "    .dataframe tbody tr th:only-of-type {\n",
       "        vertical-align: middle;\n",
       "    }\n",
       "\n",
       "    .dataframe tbody tr th {\n",
       "        vertical-align: top;\n",
       "    }\n",
       "\n",
       "    .dataframe thead th {\n",
       "        text-align: right;\n",
       "    }\n",
       "</style>\n",
       "<table border=\"1\" class=\"dataframe\">\n",
       "  <thead>\n",
       "    <tr style=\"text-align: right;\">\n",
       "      <th></th>\n",
       "      <th>0</th>\n",
       "    </tr>\n",
       "  </thead>\n",
       "  <tbody>\n",
       "    <tr>\n",
       "      <th>index</th>\n",
       "      <td>int64</td>\n",
       "    </tr>\n",
       "    <tr>\n",
       "      <th>Order_ID</th>\n",
       "      <td>object</td>\n",
       "    </tr>\n",
       "    <tr>\n",
       "      <th>Order_Date</th>\n",
       "      <td>datetime64[ns]</td>\n",
       "    </tr>\n",
       "    <tr>\n",
       "      <th>Order_Status</th>\n",
       "      <td>object</td>\n",
       "    </tr>\n",
       "    <tr>\n",
       "      <th>Fulfillment_Type</th>\n",
       "      <td>object</td>\n",
       "    </tr>\n",
       "    <tr>\n",
       "      <th>Sales_Channel</th>\n",
       "      <td>object</td>\n",
       "    </tr>\n",
       "    <tr>\n",
       "      <th>Shipping_Service_Level</th>\n",
       "      <td>object</td>\n",
       "    </tr>\n",
       "    <tr>\n",
       "      <th>Product_Style</th>\n",
       "      <td>object</td>\n",
       "    </tr>\n",
       "    <tr>\n",
       "      <th>Product_SKU</th>\n",
       "      <td>object</td>\n",
       "    </tr>\n",
       "    <tr>\n",
       "      <th>Product_Category</th>\n",
       "      <td>object</td>\n",
       "    </tr>\n",
       "    <tr>\n",
       "      <th>Product_Size</th>\n",
       "      <td>object</td>\n",
       "    </tr>\n",
       "    <tr>\n",
       "      <th>Amazon_Standard_ID</th>\n",
       "      <td>object</td>\n",
       "    </tr>\n",
       "    <tr>\n",
       "      <th>Courier_Status</th>\n",
       "      <td>object</td>\n",
       "    </tr>\n",
       "    <tr>\n",
       "      <th>Quantity</th>\n",
       "      <td>int64</td>\n",
       "    </tr>\n",
       "    <tr>\n",
       "      <th>Currency</th>\n",
       "      <td>object</td>\n",
       "    </tr>\n",
       "    <tr>\n",
       "      <th>Sale_Amount</th>\n",
       "      <td>float64</td>\n",
       "    </tr>\n",
       "    <tr>\n",
       "      <th>Shipping_City</th>\n",
       "      <td>object</td>\n",
       "    </tr>\n",
       "    <tr>\n",
       "      <th>Shipping_State</th>\n",
       "      <td>object</td>\n",
       "    </tr>\n",
       "    <tr>\n",
       "      <th>Shipping_Postal_Code</th>\n",
       "      <td>object</td>\n",
       "    </tr>\n",
       "    <tr>\n",
       "      <th>Shipping_Country</th>\n",
       "      <td>object</td>\n",
       "    </tr>\n",
       "    <tr>\n",
       "      <th>Business_to_Business</th>\n",
       "      <td>bool</td>\n",
       "    </tr>\n",
       "  </tbody>\n",
       "</table>\n",
       "</div><br><label><b>dtype:</b> object</label>"
      ],
      "text/plain": [
       "index                              int64\n",
       "Order_ID                          object\n",
       "Order_Date                datetime64[ns]\n",
       "Order_Status                      object\n",
       "Fulfillment_Type                  object\n",
       "Sales_Channel                     object\n",
       "Shipping_Service_Level            object\n",
       "Product_Style                     object\n",
       "Product_SKU                       object\n",
       "Product_Category                  object\n",
       "Product_Size                      object\n",
       "Amazon_Standard_ID                object\n",
       "Courier_Status                    object\n",
       "Quantity                           int64\n",
       "Currency                          object\n",
       "Sale_Amount                      float64\n",
       "Shipping_City                     object\n",
       "Shipping_State                    object\n",
       "Shipping_Postal_Code              object\n",
       "Shipping_Country                  object\n",
       "Business_to_Business                bool\n",
       "dtype: object"
      ]
     },
     "execution_count": 53,
     "metadata": {},
     "output_type": "execute_result"
    }
   ],
   "source": [
    "amazon.dtypes"
   ]
  },
  {
   "cell_type": "code",
   "execution_count": 56,
   "metadata": {
    "colab": {
     "base_uri": "https://localhost:8080/"
    },
    "executionInfo": {
     "elapsed": 51,
     "status": "ok",
     "timestamp": 1742642644531,
     "user": {
      "displayName": "CHELAKARRI ANANTHA SAI SRIKAR",
      "userId": "13136291414777484027"
     },
     "user_tz": -330
    },
    "id": "WramJYWSmHR4",
    "outputId": "cad84570-b05f-49da-9739-542373947701"
   },
   "outputs": [
    {
     "name": "stdout",
     "output_type": "stream",
     "text": [
      "645.9286939329328\n"
     ]
    }
   ],
   "source": [
    "print(amazon['Sale_Amount'].mean())"
   ]
  }
 ],
 "metadata": {
  "colab": {
   "authorship_tag": "ABX9TyOzCazvLCsnEt1O93xIztL/",
   "provenance": []
  },
  "kernelspec": {
   "display_name": ".venv",
   "language": "python",
   "name": "python3"
  },
  "language_info": {
   "name": "python",
   "version": "3.11.9"
  }
 },
 "nbformat": 4,
 "nbformat_minor": 0
}
